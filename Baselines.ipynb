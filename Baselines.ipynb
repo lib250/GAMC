{
  "cells": [
    {
      "cell_type": "code",
      "source": [
        "!pip install torch_geometric"
      ],
      "metadata": {
        "colab": {
          "base_uri": "https://localhost:8080/"
        },
        "id": "la2Pf4ELJfXz",
        "outputId": "5a6d0961-7f98-446b-f38f-956bd5cab177"
      },
      "id": "la2Pf4ELJfXz",
      "execution_count": 2,
      "outputs": [
        {
          "output_type": "stream",
          "name": "stdout",
          "text": [
            "Collecting torch_geometric\n",
            "  Downloading torch_geometric-2.5.0-py3-none-any.whl (1.1 MB)\n",
            "\u001b[2K     \u001b[90m━━━━━━━━━━━━━━━━━━━━━━━━━━━━━━━━━━━━━━━━\u001b[0m \u001b[32m1.1/1.1 MB\u001b[0m \u001b[31m11.4 MB/s\u001b[0m eta \u001b[36m0:00:00\u001b[0m\n",
            "\u001b[?25hRequirement already satisfied: tqdm in /usr/local/lib/python3.10/dist-packages (from torch_geometric) (4.66.2)\n",
            "Requirement already satisfied: numpy in /usr/local/lib/python3.10/dist-packages (from torch_geometric) (1.25.2)\n",
            "Requirement already satisfied: scipy in /usr/local/lib/python3.10/dist-packages (from torch_geometric) (1.11.4)\n",
            "Requirement already satisfied: fsspec in /usr/local/lib/python3.10/dist-packages (from torch_geometric) (2023.6.0)\n",
            "Requirement already satisfied: jinja2 in /usr/local/lib/python3.10/dist-packages (from torch_geometric) (3.1.3)\n",
            "Requirement already satisfied: aiohttp in /usr/local/lib/python3.10/dist-packages (from torch_geometric) (3.9.3)\n",
            "Requirement already satisfied: requests in /usr/local/lib/python3.10/dist-packages (from torch_geometric) (2.31.0)\n",
            "Requirement already satisfied: pyparsing in /usr/local/lib/python3.10/dist-packages (from torch_geometric) (3.1.1)\n",
            "Requirement already satisfied: scikit-learn in /usr/local/lib/python3.10/dist-packages (from torch_geometric) (1.2.2)\n",
            "Requirement already satisfied: psutil>=5.8.0 in /usr/local/lib/python3.10/dist-packages (from torch_geometric) (5.9.5)\n",
            "Requirement already satisfied: aiosignal>=1.1.2 in /usr/local/lib/python3.10/dist-packages (from aiohttp->torch_geometric) (1.3.1)\n",
            "Requirement already satisfied: attrs>=17.3.0 in /usr/local/lib/python3.10/dist-packages (from aiohttp->torch_geometric) (23.2.0)\n",
            "Requirement already satisfied: frozenlist>=1.1.1 in /usr/local/lib/python3.10/dist-packages (from aiohttp->torch_geometric) (1.4.1)\n",
            "Requirement already satisfied: multidict<7.0,>=4.5 in /usr/local/lib/python3.10/dist-packages (from aiohttp->torch_geometric) (6.0.5)\n",
            "Requirement already satisfied: yarl<2.0,>=1.0 in /usr/local/lib/python3.10/dist-packages (from aiohttp->torch_geometric) (1.9.4)\n",
            "Requirement already satisfied: async-timeout<5.0,>=4.0 in /usr/local/lib/python3.10/dist-packages (from aiohttp->torch_geometric) (4.0.3)\n",
            "Requirement already satisfied: MarkupSafe>=2.0 in /usr/local/lib/python3.10/dist-packages (from jinja2->torch_geometric) (2.1.5)\n",
            "Requirement already satisfied: charset-normalizer<4,>=2 in /usr/local/lib/python3.10/dist-packages (from requests->torch_geometric) (3.3.2)\n",
            "Requirement already satisfied: idna<4,>=2.5 in /usr/local/lib/python3.10/dist-packages (from requests->torch_geometric) (3.6)\n",
            "Requirement already satisfied: urllib3<3,>=1.21.1 in /usr/local/lib/python3.10/dist-packages (from requests->torch_geometric) (2.0.7)\n",
            "Requirement already satisfied: certifi>=2017.4.17 in /usr/local/lib/python3.10/dist-packages (from requests->torch_geometric) (2024.2.2)\n",
            "Requirement already satisfied: joblib>=1.1.1 in /usr/local/lib/python3.10/dist-packages (from scikit-learn->torch_geometric) (1.3.2)\n",
            "Requirement already satisfied: threadpoolctl>=2.0.0 in /usr/local/lib/python3.10/dist-packages (from scikit-learn->torch_geometric) (3.3.0)\n",
            "Installing collected packages: torch_geometric\n",
            "Successfully installed torch_geometric-2.5.0\n"
          ]
        }
      ]
    },
    {
      "cell_type": "code",
      "execution_count": 13,
      "id": "5201ffc1-0bda-483e-a1fc-5a246cb4babe",
      "metadata": {
        "id": "5201ffc1-0bda-483e-a1fc-5a246cb4babe"
      },
      "outputs": [],
      "source": [
        "import torch\n",
        "import torch.nn.functional as F\n",
        "from torch.nn import Linear\n",
        "\n",
        "from torch_geometric.datasets import UPFD\n",
        "from torch_geometric.loader import DataLoader\n",
        "from torch_geometric.nn import GATConv, GCNConv, SAGEConv, global_max_pool, global_mean_pool\n",
        "from torch_geometric.transforms import ToUndirected\n",
        "\n",
        "from sklearn.linear_model import LogisticRegression\n",
        "from sklearn.cluster import KMeans\n",
        "import numpy as np\n",
        "\n",
        "%matplotlib inline\n",
        "import matplotlib.pyplot as plt\n",
        "import networkx as nx\n",
        "from sklearn.manifold import TSNE"
      ]
    },
    {
      "cell_type": "code",
      "execution_count": 4,
      "id": "a4539385-87f6-4759-9fdd-0abd09620af8",
      "metadata": {
        "colab": {
          "base_uri": "https://localhost:8080/"
        },
        "id": "a4539385-87f6-4759-9fdd-0abd09620af8",
        "outputId": "f72eee94-98c9-458d-e7f9-fc5568a2339f"
      },
      "outputs": [
        {
          "output_type": "stream",
          "name": "stdout",
          "text": [
            "Mounted at /content/drive\n"
          ]
        }
      ],
      "source": [
        "from google.colab import drive\n",
        "drive.mount('/content/drive')\n",
        "path = 'drive/MyDrive/CS365/data/UPFD'"
      ]
    },
    {
      "cell_type": "code",
      "execution_count": 5,
      "id": "0c4939d5-f918-4c8d-af2c-bd64dcc6feca",
      "metadata": {
        "id": "0c4939d5-f918-4c8d-af2c-bd64dcc6feca"
      },
      "outputs": [],
      "source": [
        "pf_train = UPFD(path, 'politifact', 'bert', 'train', ToUndirected())\n",
        "pf_val = UPFD(path, 'politifact', 'bert', 'val', ToUndirected())\n",
        "pf_test = UPFD(path, 'politifact', 'bert', 'test', ToUndirected())\n",
        "pf_all = pf_train + pf_val + pf_test\n",
        "\n",
        "gc_train = UPFD(path, 'gossipcop', 'bert', 'train', ToUndirected())\n",
        "gc_val = UPFD(path, 'gossipcop', 'bert', 'val', ToUndirected())\n",
        "gc_test = UPFD(path, 'gossipcop', 'bert', 'test', ToUndirected())\n",
        "gc_all = gc_train + gc_val + gc_test"
      ]
    },
    {
      "cell_type": "code",
      "execution_count": 6,
      "id": "bbb64a5f-3f96-42fa-9403-cae57bb5c542",
      "metadata": {
        "colab": {
          "base_uri": "https://localhost:8080/"
        },
        "id": "bbb64a5f-3f96-42fa-9403-cae57bb5c542",
        "outputId": "5d5ffc1b-2280-48eb-df7a-b1698189edc2"
      },
      "outputs": [
        {
          "output_type": "stream",
          "name": "stdout",
          "text": [
            "==== POLITIFACT ====\n",
            "Train: UPFD(62, name=politifact, feature=bert)\n",
            "Val: UPFD(31, name=politifact, feature=bert)\n",
            "Test: UPFD(221, name=politifact, feature=bert)\n",
            "All: <torch.utils.data.dataset.ConcatDataset object at 0x7b2692b88490>\n",
            "\n",
            "==== GOSSIPCOP ====\n",
            "Train: UPFD(1092, name=gossipcop, feature=bert)\n",
            "Val: UPFD(546, name=gossipcop, feature=bert)\n",
            "Test: UPFD(3826, name=gossipcop, feature=bert)\n",
            "All: <torch.utils.data.dataset.ConcatDataset object at 0x7b2692b88a60>\n"
          ]
        }
      ],
      "source": [
        "print(\"==== POLITIFACT ====\")\n",
        "print(\"Train:\", pf_train)\n",
        "print(\"Val:\", pf_val)\n",
        "print(\"Test:\", pf_test)\n",
        "print(\"All:\", pf_all)\n",
        "\n",
        "print(\"\\n==== GOSSIPCOP ====\")\n",
        "print(\"Train:\", gc_train)\n",
        "print(\"Val:\", gc_val)\n",
        "print(\"Test:\", gc_test)\n",
        "print(\"All:\", gc_all)"
      ]
    },
    {
      "cell_type": "code",
      "execution_count": 7,
      "id": "299d9361-b321-4db3-803e-e2475e6f1a75",
      "metadata": {
        "id": "299d9361-b321-4db3-803e-e2475e6f1a75"
      },
      "outputs": [],
      "source": [
        "# Aggregate train, val, and test sets\n",
        "pf_sets = {\"Train\": pf_train, \"Val\": pf_val, \"Test\": pf_test, \"All\": pf_all}\n",
        "gc_sets = {\"Train\": gc_train, \"Val\": gc_val, \"Test\": gc_test, \"All\": gc_all}\n",
        "\n",
        "pf_total_news = {\"Train\": [0,0], \"Val\": [0,0], \"Test\": [0,0], \"All\": [0,0]}\n",
        "gc_total_news = {\"Train\": [0,0], \"Val\": [0,0], \"Test\": [0,0], \"All\": [0,0]}\n",
        "\n",
        "pf_total_rt = {\"Train\": [0,0], \"Val\": [0,0], \"Test\": [0,0], \"All\": [0,0]}\n",
        "gc_total_rt = {\"Train\": [0,0], \"Val\": [0,0], \"Test\": [0,0], \"All\": [0,0]}\n",
        "\n",
        "pf_total_edges = {\"Train\": [0,0], \"Val\": [0,0], \"Test\": [0,0], \"All\": [0,0]}\n",
        "gc_total_edges = {\"Train\": [0,0], \"Val\": [0,0], \"Test\": [0,0], \"All\": [0,0]}\n",
        "\n",
        "isolated_nodes = 0\n",
        "\n",
        "for set_split in [\"Train\", \"Val\", \"Test\"]:\n",
        "    for news_graph in pf_sets[set_split]:\n",
        "        pf_total_news[set_split][int(news_graph.y)] += 1\n",
        "        pf_total_rt[set_split][int(news_graph.y)] += news_graph.num_nodes\n",
        "        pf_total_edges[set_split][int(news_graph.y)] += news_graph.num_edges\n",
        "\n",
        "        isolated_nodes += news_graph.has_isolated_nodes()\n",
        "\n",
        "    for news_graph in gc_sets[set_split]:\n",
        "        gc_total_news[set_split][int(news_graph.y)] += 1\n",
        "        gc_total_rt[set_split][int(news_graph.y)] += news_graph.num_nodes\n",
        "        gc_total_edges[set_split][int(news_graph.y)] += news_graph.num_edges\n",
        "\n",
        "        isolated_nodes += news_graph.has_isolated_nodes()\n",
        "\n",
        "for set_split in [\"Train\", \"Val\", \"Test\"]:\n",
        "    for i in range(2):\n",
        "        pf_total_news[\"All\"][i] += pf_total_news[set_split][i]\n",
        "        gc_total_news[\"All\"][i] += gc_total_news[set_split][i]\n",
        "\n",
        "        pf_total_rt[\"All\"][i] += pf_total_rt[set_split][i]\n",
        "        gc_total_rt[\"All\"][i] += gc_total_rt[set_split][i]\n",
        "\n",
        "        pf_total_edges[\"All\"][i] += pf_total_edges[set_split][i]\n",
        "        gc_total_edges[\"All\"][i] += gc_total_edges[set_split][i]\n"
      ]
    },
    {
      "cell_type": "code",
      "execution_count": 8,
      "id": "99a870a1-c311-4149-9af8-63b05cdb2b4a",
      "metadata": {
        "colab": {
          "base_uri": "https://localhost:8080/"
        },
        "id": "99a870a1-c311-4149-9af8-63b05cdb2b4a",
        "outputId": "132500fb-1fde-4b1e-f936-9d2514b65927"
      },
      "outputs": [
        {
          "output_type": "stream",
          "name": "stdout",
          "text": [
            "==== POLITIFACT ====\n",
            "COUNT: {'Train': [36, 26], 'Val': [13, 18], 'Test': [108, 113], 'All': [157, 157]}\n",
            "NODES: {'Train': [3690, 2382], 'Val': [1239, 2539], 'Test': [13113, 18091], 'All': [18042, 23012]}\n",
            "EDGES: {'Train': [7308, 4712], 'Val': [2452, 5042], 'Test': [26010, 35956], 'All': [35770, 45710]}\n",
            "AVG RT: {'Train': [102.47222222222223, 91.57692307692308], 'Val': [95.23076923076923, 141.0], 'Test': [121.4074074074074, 160.08849557522123], 'All': [114.91082802547771, 146.56687898089172]}\n",
            "AVG ND: {'Train': [0.9902439024390244, 0.9890848026868178], 'Val': [0.9895076674737692, 0.9929105947223317], 'Test': [0.9917638984214139, 0.9937538002321596], 'All': [0.9912980822525219, 0.9931774726229793]}\n",
            "\n",
            "==== GOSSIPCOP ====\n",
            "COUNT: {'Train': [557, 535], 'Val': [265, 281], 'Test': [1910, 1916], 'All': [2732, 2732]}\n",
            "NODES: {'Train': [43166, 20316], 'Val': [20187, 10604], 'Test': [144726, 75263], 'All': [208079, 106183]}\n",
            "EDGES: {'Train': [85218, 39562], 'Val': [39844, 20646], 'Test': [285632, 146694], 'All': [410694, 206902]}\n",
            "AVG RT: {'Train': [77.49551166965888, 37.97196261682243], 'Val': [76.17358490566038, 37.73309608540925], 'Test': [75.77225130890052, 39.28079331941545], 'All': [76.16325036603222, 38.866032210834554]}\n",
            "AVG ND: {'Train': [0.9870963258119817, 0.9736660759992124], 'Val': [0.9868727398821023, 0.9735005658242173], 'Test': [0.9868026477619778, 0.9745426039355327], 'All': [0.9868703713493433, 0.9742708343143441]}\n"
          ]
        }
      ],
      "source": [
        "print(\"==== POLITIFACT ====\")\n",
        "print(\"COUNT:\", pf_total_news)\n",
        "print(\"NODES:\", pf_total_rt)\n",
        "print(\"EDGES:\", pf_total_edges)\n",
        "print(\"AVG RT:\", {set_split: [(pf_total_rt[set_split][0] - 1) / pf_total_news[set_split][0], (pf_total_rt[set_split][1] - 1) / pf_total_news[set_split][1]] for set_split in [\"Train\", \"Val\", \"Test\", \"All\"]})\n",
        "print(\"AVG ND:\", {set_split: [(pf_total_edges[set_split][0]//2) / pf_total_rt[set_split][0], (pf_total_edges[set_split][1]//2) / pf_total_rt[set_split][1]] for set_split in [\"Train\", \"Val\", \"Test\", \"All\"]})\n",
        "\n",
        "print(\"\\n==== GOSSIPCOP ====\")\n",
        "print(\"COUNT:\", gc_total_news)\n",
        "print(\"NODES:\", gc_total_rt)\n",
        "print(\"EDGES:\", gc_total_edges)\n",
        "print(\"AVG RT:\", {set_split: [(gc_total_rt[set_split][0] - 1) / gc_total_news[set_split][0], (gc_total_rt[set_split][1] - 1) / gc_total_news[set_split][1]] for set_split in [\"Train\", \"Val\", \"Test\", \"All\"]})\n",
        "print(\"AVG ND:\", {set_split: [(gc_total_edges[set_split][0]//2) / gc_total_rt[set_split][0], (gc_total_edges[set_split][1]//2) / gc_total_rt[set_split][1]] for set_split in [\"Train\", \"Val\", \"Test\", \"All\"]})\n"
      ]
    },
    {
      "cell_type": "code",
      "execution_count": null,
      "id": "a56ae814-5f53-46ac-9a25-24544a1c7fed",
      "metadata": {
        "id": "a56ae814-5f53-46ac-9a25-24544a1c7fed"
      },
      "outputs": [],
      "source": [
        "def visualize_graph(G, color):\n",
        "    plt.figure(figsize=(7,7))\n",
        "    plt.xticks([])\n",
        "    plt.yticks([])\n",
        "    nx.draw_networkx(G, pos=nx.spring_layout(G, seed=42), with_labels=False,\n",
        "                     node_color=color, cmap=\"Set2\")\n",
        "    plt.show()\n",
        "\n",
        "def visualize(h, color):\n",
        "    z = TSNE(n_components=2).fit_transform(h.detach().cpu().numpy())\n",
        "\n",
        "    plt.figure(figsize=(10,10))\n",
        "    plt.xticks([])\n",
        "    plt.yticks([])\n",
        "\n",
        "    plt.scatter(z[:, 0], z[:, 1], s=70, c=color, cmap=\"Set2\")\n",
        "    plt.show()"
      ]
    },
    {
      "cell_type": "code",
      "execution_count": null,
      "id": "0c70b02b-d44e-4760-b49d-1390b2b5a8b3",
      "metadata": {
        "id": "0c70b02b-d44e-4760-b49d-1390b2b5a8b3"
      },
      "outputs": [],
      "source": [
        "graph_to_display = pf_train[4]\n",
        "color_tensor = torch.empty(graph_to_display.num_nodes)\n",
        "color_tensor[0] = 1"
      ]
    },
    {
      "cell_type": "code",
      "execution_count": null,
      "id": "43829898-df1f-47bb-b4c3-d9b668dc074a",
      "metadata": {
        "id": "43829898-df1f-47bb-b4c3-d9b668dc074a",
        "outputId": "fc10e96a-62c6-4e0b-cb65-33bafd08efd6"
      },
      "outputs": [
        {
          "data": {
            "image/png": "[encoded data removed]",
            "text/plain": [
              "<Figure size 700x700 with 1 Axes>"
            ]
          },
          "metadata": {},
          "output_type": "display_data"
        }
      ],
      "source": [
        "from torch_geometric.utils import to_networkx\n",
        "\n",
        "G = to_networkx(graph_to_display, to_undirected=True)\n",
        "visualize_graph(G, color=color_tensor)"
      ]
    },
    {
      "cell_type": "code",
      "execution_count": 45,
      "id": "8580f932-f513-42ba-b5c6-0861c1338961",
      "metadata": {
        "id": "8580f932-f513-42ba-b5c6-0861c1338961"
      },
      "outputs": [],
      "source": [
        "def eval_LR(train_set, test_set):\n",
        "    lr_train_x = torch.stack(list(g.x[0] for g in train_set))\n",
        "    lr_train_x_avg = torch.stack(list(torch.mean(g.x, 0) for g in train_set))\n",
        "    lr_train_x_max = torch.stack(list(torch.max(g.x, 0)[0] for g in train_set))\n",
        "    lr_train_x_cat = torch.stack(list(torch.cat((g.x[0], torch.mean(g.x[1:], 0))) for g in train_set))\n",
        "    lr_train_y = torch.cat(list(g.y for g in train_set))\n",
        "\n",
        "    print(\"===TRAINING===\")\n",
        "    print(\"R:\", lr_train_x.shape)\n",
        "    print(\"A:\", lr_train_x_avg.shape)\n",
        "    print(\"M:\", lr_train_x_max.shape)\n",
        "    print(\"C:\", lr_train_x_cat.shape)\n",
        "    print(\"L:\", lr_train_y.shape)\n",
        "\n",
        "    lr_test_x = torch.stack(list(g.x[0] for g in test_set))\n",
        "    lr_test_x_avg = torch.stack(list(torch.mean(g.x, 0) for g in test_set))\n",
        "    lr_test_x_max = torch.stack(list(torch.max(g.x, 0)[0] for g in test_set))\n",
        "    lr_test_x_cat = torch.stack(list(torch.cat((g.x[0], torch.mean(g.x[1:], 0))) for g in test_set))\n",
        "    lr_test_y = torch.cat(list(g.y for g in test_set))\n",
        "\n",
        "    print(\"===TESTING===\")\n",
        "    print(\"R:\", lr_test_x.shape)\n",
        "    print(\"A:\", lr_test_x_avg.shape)\n",
        "    print(\"M:\", lr_test_x_max.shape)\n",
        "    print(\"C:\", lr_test_x_cat.shape)\n",
        "    print(\"L:\", lr_test_y.shape)\n",
        "\n",
        "    lr_model_regular = LogisticRegression(random_state=0, max_iter=10000).fit(lr_train_x, lr_train_y)\n",
        "    lr_model_average = LogisticRegression(random_state=0, max_iter=10000).fit(lr_train_x_avg, lr_train_y)\n",
        "    lr_model_maximum = LogisticRegression(random_state=0, max_iter=10000).fit(lr_train_x_max, lr_train_y)\n",
        "    lr_model_concat = LogisticRegression(random_state=0, max_iter=10000).fit(lr_train_x_cat, lr_train_y)\n",
        "\n",
        "    reg_score = lr_model_regular.score(lr_test_x, lr_test_y)\n",
        "    avg_score = lr_model_average.score(lr_test_x_avg, lr_test_y)\n",
        "    max_score = lr_model_maximum.score(lr_test_x_max, lr_test_y)\n",
        "    cat_score = lr_model_concat.score(lr_test_x_cat, lr_test_y)\n",
        "\n",
        "    return reg_score, avg_score, max_score, cat_score\n",
        ""
      ]
    },
    {
      "cell_type": "code",
      "execution_count": 46,
      "id": "74d9dbcd-096a-4be5-939b-addd2bbca65d",
      "metadata": {
        "colab": {
          "base_uri": "https://localhost:8080/"
        },
        "id": "74d9dbcd-096a-4be5-939b-addd2bbca65d",
        "outputId": "1274191d-03d4-4abd-adf8-34f5627c5ee4"
      },
      "outputs": [
        {
          "output_type": "stream",
          "name": "stdout",
          "text": [
            "===TRAINING===\n",
            "R: torch.Size([62, 768])\n",
            "A: torch.Size([62, 768])\n",
            "M: torch.Size([62, 768])\n",
            "C: torch.Size([62, 1536])\n",
            "L: torch.Size([62])\n",
            "===TESTING===\n",
            "R: torch.Size([221, 768])\n",
            "A: torch.Size([221, 768])\n",
            "M: torch.Size([221, 768])\n",
            "C: torch.Size([221, 1536])\n",
            "L: torch.Size([221])\n"
          ]
        },
        {
          "output_type": "execute_result",
          "data": {
            "text/plain": [
              "(0.8009049773755657,\n",
              " 0.7692307692307693,\n",
              " 0.8099547511312217,\n",
              " 0.8009049773755657)"
            ]
          },
          "metadata": {},
          "execution_count": 46
        }
      ],
      "source": [
        "eval_LR(pf_train, pf_test)"
      ]
    },
    {
      "cell_type": "code",
      "execution_count": 47,
      "id": "042fa5ab-c282-4d7f-9628-f92164d818aa",
      "metadata": {
        "colab": {
          "base_uri": "https://localhost:8080/"
        },
        "id": "042fa5ab-c282-4d7f-9628-f92164d818aa",
        "outputId": "951b9661-e034-4a86-db94-37bf77ab25d0"
      },
      "outputs": [
        {
          "output_type": "stream",
          "name": "stdout",
          "text": [
            "===TRAINING===\n",
            "R: torch.Size([93, 768])\n",
            "A: torch.Size([93, 768])\n",
            "M: torch.Size([93, 768])\n",
            "C: torch.Size([93, 1536])\n",
            "L: torch.Size([93])\n",
            "===TESTING===\n",
            "R: torch.Size([221, 768])\n",
            "A: torch.Size([221, 768])\n",
            "M: torch.Size([221, 768])\n",
            "C: torch.Size([221, 1536])\n",
            "L: torch.Size([221])\n"
          ]
        },
        {
          "output_type": "execute_result",
          "data": {
            "text/plain": [
              "(0.8416289592760181,\n",
              " 0.8099547511312217,\n",
              " 0.8642533936651584,\n",
              " 0.8416289592760181)"
            ]
          },
          "metadata": {},
          "execution_count": 47
        }
      ],
      "source": [
        "eval_LR(pf_train+pf_val, pf_test)"
      ]
    },
    {
      "cell_type": "code",
      "execution_count": 48,
      "id": "4f6e0267-4e62-411e-8b51-9242d64932fc",
      "metadata": {
        "colab": {
          "base_uri": "https://localhost:8080/"
        },
        "id": "4f6e0267-4e62-411e-8b51-9242d64932fc",
        "outputId": "3762169a-9590-4d06-db52-aa88160b1022"
      },
      "outputs": [
        {
          "output_type": "stream",
          "name": "stdout",
          "text": [
            "===TRAINING===\n",
            "R: torch.Size([1092, 768])\n",
            "A: torch.Size([1092, 768])\n",
            "M: torch.Size([1092, 768])\n",
            "C: torch.Size([1092, 1536])\n",
            "L: torch.Size([1092])\n",
            "===TESTING===\n",
            "R: torch.Size([3826, 768])\n",
            "A: torch.Size([3826, 768])\n",
            "M: torch.Size([3826, 768])\n",
            "C: torch.Size([3826, 1536])\n",
            "L: torch.Size([3826])\n"
          ]
        },
        {
          "output_type": "execute_result",
          "data": {
            "text/plain": [
              "(0.736800836382645, 0.9417145844223732, 0.9568740198640878, 0.9025091479351803)"
            ]
          },
          "metadata": {},
          "execution_count": 48
        }
      ],
      "source": [
        "eval_LR(gc_train, gc_test)"
      ]
    },
    {
      "cell_type": "code",
      "execution_count": 49,
      "id": "ed81ec93-96e9-4e20-a438-c370e61aef71",
      "metadata": {
        "colab": {
          "base_uri": "https://localhost:8080/"
        },
        "id": "ed81ec93-96e9-4e20-a438-c370e61aef71",
        "outputId": "1f4cd4fc-d7e4-4e72-c9e9-5e6e1ac80e6a"
      },
      "outputs": [
        {
          "output_type": "stream",
          "name": "stdout",
          "text": [
            "===TRAINING===\n",
            "R: torch.Size([1638, 768])\n",
            "A: torch.Size([1638, 768])\n",
            "M: torch.Size([1638, 768])\n",
            "C: torch.Size([1638, 1536])\n",
            "L: torch.Size([1638])\n",
            "===TESTING===\n",
            "R: torch.Size([3826, 768])\n",
            "A: torch.Size([3826, 768])\n",
            "M: torch.Size([3826, 768])\n",
            "C: torch.Size([3826, 1536])\n",
            "L: torch.Size([3826])\n"
          ]
        },
        {
          "output_type": "execute_result",
          "data": {
            "text/plain": [
              "(0.7341871406168322, 0.946941975953999, 0.9587036069001568, 0.9168844746471511)"
            ]
          },
          "metadata": {},
          "execution_count": 49
        }
      ],
      "source": [
        "eval_LR(gc_train+gc_val, gc_test)"
      ]
    },
    {
      "cell_type": "code",
      "execution_count": 50,
      "id": "e30514f9-8d23-495e-98db-9faa6c306bc1",
      "metadata": {
        "id": "e30514f9-8d23-495e-98db-9faa6c306bc1"
      },
      "outputs": [],
      "source": [
        "def kmeans_acc(x, y):\n",
        "    kmeans = KMeans(n_clusters=2, random_state=0, init=\"random\", n_init=100).fit(x)\n",
        "    return np.sum(kmeans.labels_ == y) / kmeans.labels_.shape[0]"
      ]
    },
    {
      "cell_type": "code",
      "execution_count": 51,
      "id": "20123b1e-fb26-478d-a0cc-adaaa712f513",
      "metadata": {
        "id": "20123b1e-fb26-478d-a0cc-adaaa712f513"
      },
      "outputs": [],
      "source": [
        "def eval_KM(cluster_set):\n",
        "    cl_set_x = torch.stack(list(g.x[0] for g in cluster_set))\n",
        "    cl_set_x_avg = torch.stack(list(torch.mean(g.x, 0) for g in cluster_set))\n",
        "    cl_set_x_max = torch.stack(list(torch.max(g.x, 0)[0] for g in cluster_set))\n",
        "    cl_set_x_cat = torch.stack(list(torch.cat((g.x[0], torch.mean(g.x[1:], 0))) for g in cluster_set))\n",
        "    cl_set_y = torch.cat(list(g.y for g in cluster_set)).numpy()\n",
        "\n",
        "    print(\"===CLUSTERING===\")\n",
        "    print(\"R:\", cl_set_x.shape)\n",
        "    print(\"A:\", cl_set_x_avg.shape)\n",
        "    print(\"M:\", cl_set_x_max.shape)\n",
        "    print(\"C:\", cl_set_x_cat.shape)\n",
        "    print(\"L:\", cl_set_y.shape)\n",
        "\n",
        "    reg_score = kmeans_acc(cl_set_x, cl_set_y)\n",
        "    avg_score = kmeans_acc(cl_set_x_avg, cl_set_y)\n",
        "    max_score = kmeans_acc(cl_set_x_max, cl_set_y)\n",
        "    cat_score = kmeans_acc(cl_set_x_cat, cl_set_y)\n",
        "\n",
        "    return reg_score, avg_score, max_score, cat_score"
      ]
    },
    {
      "cell_type": "code",
      "execution_count": 52,
      "id": "921e7dbe-52ff-43c2-a69c-db87422b447e",
      "metadata": {
        "colab": {
          "base_uri": "https://localhost:8080/"
        },
        "id": "921e7dbe-52ff-43c2-a69c-db87422b447e",
        "outputId": "13a0ccef-023e-4f59-a78d-3d0d6937f357"
      },
      "outputs": [
        {
          "output_type": "stream",
          "name": "stdout",
          "text": [
            "===CLUSTERING===\n",
            "R: torch.Size([221, 768])\n",
            "A: torch.Size([221, 768])\n",
            "M: torch.Size([221, 768])\n",
            "C: torch.Size([221, 1536])\n",
            "L: (221,)\n"
          ]
        },
        {
          "output_type": "execute_result",
          "data": {
            "text/plain": [
              "(0.5203619909502263,\n",
              " 0.4298642533936652,\n",
              " 0.5203619909502263,\n",
              " 0.4796380090497738)"
            ]
          },
          "metadata": {},
          "execution_count": 52
        }
      ],
      "source": [
        "eval_KM(pf_test)"
      ]
    },
    {
      "cell_type": "code",
      "execution_count": 53,
      "id": "3ce492b9-6ee9-461c-8c0a-bd8d2373ce38",
      "metadata": {
        "colab": {
          "base_uri": "https://localhost:8080/"
        },
        "id": "3ce492b9-6ee9-461c-8c0a-bd8d2373ce38",
        "outputId": "8b570bc0-3a6c-4144-b63a-41d891d33727"
      },
      "outputs": [
        {
          "output_type": "stream",
          "name": "stdout",
          "text": [
            "===CLUSTERING===\n",
            "R: torch.Size([314, 768])\n",
            "A: torch.Size([314, 768])\n",
            "M: torch.Size([314, 768])\n",
            "C: torch.Size([314, 1536])\n",
            "L: (314,)\n"
          ]
        },
        {
          "output_type": "execute_result",
          "data": {
            "text/plain": [
              "(0.5987261146496815,\n",
              " 0.43312101910828027,\n",
              " 0.48089171974522293,\n",
              " 0.5987261146496815)"
            ]
          },
          "metadata": {},
          "execution_count": 53
        }
      ],
      "source": [
        "eval_KM(pf_train+pf_val+pf_test)"
      ]
    },
    {
      "cell_type": "code",
      "execution_count": 54,
      "id": "0509d412-9158-4db4-9126-6670c91105ab",
      "metadata": {
        "colab": {
          "base_uri": "https://localhost:8080/"
        },
        "id": "0509d412-9158-4db4-9126-6670c91105ab",
        "outputId": "26119eee-adcb-423b-c0a9-40cb55d1e408"
      },
      "outputs": [
        {
          "output_type": "stream",
          "name": "stdout",
          "text": [
            "===CLUSTERING===\n",
            "R: torch.Size([3826, 768])\n",
            "A: torch.Size([3826, 768])\n",
            "M: torch.Size([3826, 768])\n",
            "C: torch.Size([3826, 1536])\n",
            "L: (3826,)\n"
          ]
        },
        {
          "output_type": "execute_result",
          "data": {
            "text/plain": [
              "(0.47072660742289596,\n",
              " 0.7219027705175117,\n",
              " 0.7718243596445373,\n",
              " 0.4683742812336644)"
            ]
          },
          "metadata": {},
          "execution_count": 54
        }
      ],
      "source": [
        "eval_KM(gc_test)"
      ]
    },
    {
      "cell_type": "code",
      "execution_count": 55,
      "id": "f10e22cf-99ee-46ae-887e-a54100ec22d2",
      "metadata": {
        "colab": {
          "base_uri": "https://localhost:8080/"
        },
        "id": "f10e22cf-99ee-46ae-887e-a54100ec22d2",
        "outputId": "64677bb0-da99-4fce-8202-17aab5d59bd6"
      },
      "outputs": [
        {
          "output_type": "stream",
          "name": "stdout",
          "text": [
            "===CLUSTERING===\n",
            "R: torch.Size([5464, 768])\n",
            "A: torch.Size([5464, 768])\n",
            "M: torch.Size([5464, 768])\n",
            "C: torch.Size([5464, 1536])\n",
            "L: (5464,)\n"
          ]
        },
        {
          "output_type": "execute_result",
          "data": {
            "text/plain": [
              "(0.46724011713030744,\n",
              " 0.42258418740849196,\n",
              " 0.23151537335285505,\n",
              " 0.5333089311859444)"
            ]
          },
          "metadata": {},
          "execution_count": 55
        }
      ],
      "source": [
        "eval_KM(gc_train+gc_val+gc_test)"
      ]
    },
    {
      "cell_type": "code",
      "execution_count": 40,
      "id": "ff233c22-6de7-4461-9601-6c0ab59d190c",
      "metadata": {
        "id": "ff233c22-6de7-4461-9601-6c0ab59d190c"
      },
      "outputs": [],
      "source": [
        "class BaselineGNN(torch.nn.Module):\n",
        "    def __init__(self, in_channels, hidden_channels, out_channels):\n",
        "        super(BaselineGNN, self).__init__()\n",
        "        torch.manual_seed(12345)\n",
        "\n",
        "        self.conv1 = GCNConv(in_channels, hidden_channels)\n",
        "        self.conv2 = GCNConv(hidden_channels, 64)\n",
        "        self.conv3 = GCNConv(64, 32)\n",
        "        self.conv4 = GCNConv(32, 16)\n",
        "        self.lin = Linear(16, out_channels)\n",
        "\n",
        "    def forward(self, x, edge_index, batch):\n",
        "        h1 = self.conv1(x, edge_index).relu()\n",
        "        h2 = self.conv2(h1, edge_index).relu()\n",
        "        h3 = self.conv3(h2, edge_index).relu()\n",
        "        h4 = self.conv4(h3, edge_index)\n",
        "        h = global_max_pool(h4, batch)\n",
        "\n",
        "        h = F.dropout(h, p=0.5, training=self.training)\n",
        "        h = self.lin(h)\n",
        "        return h"
      ]
    },
    {
      "cell_type": "code",
      "execution_count": 10,
      "id": "002e63b3-65a4-48cf-a09f-95b1545e3ec0",
      "metadata": {
        "id": "002e63b3-65a4-48cf-a09f-95b1545e3ec0"
      },
      "outputs": [],
      "source": [
        "from torch_geometric.nn.conv import GraphConv\n",
        "\n",
        "class TwoGNN(torch.nn.Module):\n",
        "    def __init__(self, in_channels, hidden_channels, out_channels):\n",
        "        super(TwoGNN, self).__init__()\n",
        "        torch.manual_seed(12345)\n",
        "\n",
        "        self.conv1 = GraphConv(in_channels, hidden_channels)\n",
        "        self.conv2 = GraphConv(hidden_channels, hidden_channels)\n",
        "        self.lin = Linear(hidden_channels, out_channels)\n",
        "\n",
        "    def forward(self, x, edge_index, batch):\n",
        "        h1 = self.conv1(x, edge_index).relu()\n",
        "        h2 = self.conv2(h1, edge_index)#.relu()\n",
        "        h = global_max_pool(h2, batch)\n",
        "\n",
        "        h = F.dropout(h, p=0.5, training=self.training)\n",
        "        h = self.lin(h)\n",
        "        return h"
      ]
    },
    {
      "cell_type": "code",
      "execution_count": 11,
      "id": "bf5d90b5-ed61-4d51-b753-ea4493057074",
      "metadata": {
        "id": "bf5d90b5-ed61-4d51-b753-ea4493057074"
      },
      "outputs": [],
      "source": [
        "def eval_GNN(model, train_dataset, val_dataset, test_dataset, epochs=60, batch_size=9):\n",
        "    train_loader = DataLoader(train_dataset, batch_size=batch_size, shuffle=True)\n",
        "    val_loader = DataLoader(val_dataset, batch_size=batch_size, shuffle=False)\n",
        "    test_loader = DataLoader(test_dataset, batch_size=batch_size, shuffle=False)\n",
        "\n",
        "    device = torch.device('cuda' if torch.cuda.is_available() else 'cpu')\n",
        "    model=model.to(device)\n",
        "\n",
        "    optimizer = torch.optim.Adam(model.parameters(), lr=0.001, weight_decay=0.01)\n",
        "    criterion = torch.nn.CrossEntropyLoss()\n",
        "\n",
        "    def train():\n",
        "        model.train()\n",
        "\n",
        "        total_loss = 0\n",
        "        for data in train_loader:\n",
        "            data = data.to(device)\n",
        "            optimizer.zero_grad()\n",
        "            out = model(data.x, data.edge_index, data.batch)\n",
        "            loss = criterion(out, data.y)\n",
        "            loss.backward()\n",
        "            optimizer.step()\n",
        "\n",
        "            total_loss += float(loss) * data.num_graphs\n",
        "\n",
        "        return total_loss / len(train_loader.dataset)\n",
        "\n",
        "    @torch.no_grad()\n",
        "    def test(loader):\n",
        "        model.eval()\n",
        "\n",
        "        num_correct = 0\n",
        "        total = 0\n",
        "        for data in loader:\n",
        "            data = data.to(device)\n",
        "            out = model(data.x, data.edge_index, data.batch)\n",
        "            pred = out.argmax(dim=1)\n",
        "            num_correct += int((pred == data.y).sum())\n",
        "            total += data.num_graphs\n",
        "\n",
        "        return num_correct / total\n",
        "\n",
        "    train_errors = np.zeros((epochs))\n",
        "    val_errors = np.zeros((epochs))\n",
        "\n",
        "    for epoch in range(epochs):\n",
        "        loss = train()\n",
        "        train_acc = test(train_loader)\n",
        "        val_acc = test(val_loader)\n",
        "        test_acc = test(test_loader)\n",
        "        train_errors[epoch] = 1 - train_acc\n",
        "        val_errors[epoch] = 1 - val_acc\n",
        "        print(f'Epoch: {epoch:02d}, Loss: {loss:.4f}, Train: {train_acc:.4f}, '\n",
        "              f'Val: {val_acc:.4f}, Test: {test_acc:.4f}')\n",
        "\n",
        "    fig, ax = plt.subplots()\n",
        "    ax.plot(train_errors,'r-',label='train')\n",
        "    ax.plot(val_errors,'b-',label='validation')\n",
        "    ax.set_ylim(0,1); ax.set_xlim(0,epochs)\n",
        "    ax.set_xlabel('Epoch'); ax.set_ylabel('Error')\n",
        "    ax.set_title('Validation Result %3.2f'%(val_errors[-1]))\n",
        "    ax.legend()\n",
        "    plt.show()"
      ]
    },
    {
      "cell_type": "code",
      "execution_count": 43,
      "id": "82fba362-4269-4dd1-ba13-9439f1216f9b",
      "metadata": {
        "colab": {
          "base_uri": "https://localhost:8080/",
          "height": 1000
        },
        "id": "82fba362-4269-4dd1-ba13-9439f1216f9b",
        "outputId": "b02f9967-3ce6-496e-d188-54f022c2c228"
      },
      "outputs": [
        {
          "output_type": "stream",
          "name": "stdout",
          "text": [
            "Epoch: 00, Loss: 0.7038, Train: 0.5110, Val: 0.4890, Test: 0.5000\n",
            "Epoch: 01, Loss: 0.6162, Train: 0.8233, Val: 0.8315, Test: 0.8194\n",
            "Epoch: 02, Loss: 0.5752, Train: 0.7189, Val: 0.7418, Test: 0.7256\n",
            "Epoch: 03, Loss: 0.5508, Train: 0.8004, Val: 0.8168, Test: 0.8029\n",
            "Epoch: 04, Loss: 0.4966, Train: 0.8773, Val: 0.8956, Test: 0.8764\n",
            "Epoch: 05, Loss: 0.4594, Train: 0.8837, Val: 0.9029, Test: 0.8868\n",
            "Epoch: 06, Loss: 0.4193, Train: 0.8984, Val: 0.9158, Test: 0.8970\n",
            "Epoch: 07, Loss: 0.3899, Train: 0.8938, Val: 0.9121, Test: 0.9007\n",
            "Epoch: 08, Loss: 0.3697, Train: 0.9057, Val: 0.9176, Test: 0.9004\n",
            "Epoch: 09, Loss: 0.3550, Train: 0.9084, Val: 0.9212, Test: 0.9083\n",
            "Epoch: 10, Loss: 0.3475, Train: 0.9112, Val: 0.9176, Test: 0.9075\n",
            "Epoch: 11, Loss: 0.3245, Train: 0.9002, Val: 0.9103, Test: 0.8975\n",
            "Epoch: 12, Loss: 0.3039, Train: 0.8993, Val: 0.9084, Test: 0.8842\n",
            "Epoch: 13, Loss: 0.3056, Train: 0.9203, Val: 0.9286, Test: 0.9258\n",
            "Epoch: 14, Loss: 0.3079, Train: 0.9332, Val: 0.9341, Test: 0.9273\n",
            "Epoch: 15, Loss: 0.2710, Train: 0.9386, Val: 0.9286, Test: 0.9292\n",
            "Epoch: 16, Loss: 0.2610, Train: 0.9277, Val: 0.9231, Test: 0.9221\n",
            "Epoch: 17, Loss: 0.2532, Train: 0.8984, Val: 0.9029, Test: 0.8834\n",
            "Epoch: 18, Loss: 0.2570, Train: 0.9212, Val: 0.9176, Test: 0.9151\n",
            "Epoch: 19, Loss: 0.2572, Train: 0.9368, Val: 0.9231, Test: 0.9250\n",
            "Epoch: 20, Loss: 0.2807, Train: 0.9158, Val: 0.9103, Test: 0.9098\n",
            "Epoch: 21, Loss: 0.2471, Train: 0.9396, Val: 0.9286, Test: 0.9273\n",
            "Epoch: 22, Loss: 0.2340, Train: 0.9487, Val: 0.9469, Test: 0.9430\n",
            "Epoch: 23, Loss: 0.2086, Train: 0.9542, Val: 0.9560, Test: 0.9443\n",
            "Epoch: 24, Loss: 0.2172, Train: 0.9524, Val: 0.9396, Test: 0.9438\n",
            "Epoch: 25, Loss: 0.2246, Train: 0.9222, Val: 0.9066, Test: 0.9119\n",
            "Epoch: 26, Loss: 0.2290, Train: 0.9487, Val: 0.9341, Test: 0.9407\n",
            "Epoch: 27, Loss: 0.2114, Train: 0.9396, Val: 0.9359, Test: 0.9323\n",
            "Epoch: 28, Loss: 0.2099, Train: 0.9597, Val: 0.9542, Test: 0.9475\n",
            "Epoch: 29, Loss: 0.1928, Train: 0.9496, Val: 0.9396, Test: 0.9357\n",
            "Epoch: 30, Loss: 0.1784, Train: 0.9661, Val: 0.9505, Test: 0.9493\n",
            "Epoch: 31, Loss: 0.1908, Train: 0.9570, Val: 0.9505, Test: 0.9462\n",
            "Epoch: 32, Loss: 0.1722, Train: 0.9451, Val: 0.9341, Test: 0.9263\n",
            "Epoch: 33, Loss: 0.2017, Train: 0.8819, Val: 0.8663, Test: 0.8798\n",
            "Epoch: 34, Loss: 0.2280, Train: 0.8773, Val: 0.8791, Test: 0.8659\n",
            "Epoch: 35, Loss: 0.2427, Train: 0.9396, Val: 0.9267, Test: 0.9289\n",
            "Epoch: 36, Loss: 0.2108, Train: 0.9286, Val: 0.9158, Test: 0.9098\n",
            "Epoch: 37, Loss: 0.1886, Train: 0.9606, Val: 0.9542, Test: 0.9501\n",
            "Epoch: 38, Loss: 0.1647, Train: 0.9423, Val: 0.9341, Test: 0.9305\n",
            "Epoch: 39, Loss: 0.1683, Train: 0.9606, Val: 0.9560, Test: 0.9498\n",
            "Epoch: 40, Loss: 0.1524, Train: 0.9560, Val: 0.9469, Test: 0.9415\n",
            "Epoch: 41, Loss: 0.1791, Train: 0.9542, Val: 0.9396, Test: 0.9381\n",
            "Epoch: 42, Loss: 0.2140, Train: 0.8956, Val: 0.8864, Test: 0.8978\n",
            "Epoch: 43, Loss: 0.2185, Train: 0.9075, Val: 0.8993, Test: 0.8894\n",
            "Epoch: 44, Loss: 0.2378, Train: 0.9524, Val: 0.9414, Test: 0.9415\n",
            "Epoch: 45, Loss: 0.2505, Train: 0.8919, Val: 0.8883, Test: 0.8902\n",
            "Epoch: 46, Loss: 0.2179, Train: 0.9634, Val: 0.9560, Test: 0.9475\n",
            "Epoch: 47, Loss: 0.1623, Train: 0.9350, Val: 0.9231, Test: 0.9266\n",
            "Epoch: 48, Loss: 0.1869, Train: 0.9560, Val: 0.9377, Test: 0.9360\n",
            "Epoch: 49, Loss: 0.1607, Train: 0.9579, Val: 0.9451, Test: 0.9428\n",
            "Epoch: 50, Loss: 0.1548, Train: 0.9643, Val: 0.9579, Test: 0.9511\n",
            "Epoch: 51, Loss: 0.1433, Train: 0.9615, Val: 0.9542, Test: 0.9501\n",
            "Epoch: 52, Loss: 0.1535, Train: 0.9588, Val: 0.9359, Test: 0.9417\n",
            "Epoch: 53, Loss: 0.1351, Train: 0.9661, Val: 0.9542, Test: 0.9477\n",
            "Epoch: 54, Loss: 0.1432, Train: 0.9478, Val: 0.9396, Test: 0.9281\n",
            "Epoch: 55, Loss: 0.1438, Train: 0.8984, Val: 0.8919, Test: 0.8960\n",
            "Epoch: 56, Loss: 0.2197, Train: 0.9725, Val: 0.9579, Test: 0.9543\n",
            "Epoch: 57, Loss: 0.1907, Train: 0.8269, Val: 0.8278, Test: 0.8285\n",
            "Epoch: 58, Loss: 0.2506, Train: 0.9423, Val: 0.9286, Test: 0.9331\n",
            "Epoch: 59, Loss: 0.1611, Train: 0.9524, Val: 0.9432, Test: 0.9360\n",
            "Epoch: 60, Loss: 0.1850, Train: 0.9579, Val: 0.9359, Test: 0.9394\n",
            "Epoch: 61, Loss: 0.1611, Train: 0.9679, Val: 0.9524, Test: 0.9535\n",
            "Epoch: 62, Loss: 0.1434, Train: 0.9524, Val: 0.9359, Test: 0.9305\n",
            "Epoch: 63, Loss: 0.1539, Train: 0.9496, Val: 0.9212, Test: 0.9300\n",
            "Epoch: 64, Loss: 0.1458, Train: 0.9734, Val: 0.9615, Test: 0.9548\n",
            "Epoch: 65, Loss: 0.1279, Train: 0.9643, Val: 0.9414, Test: 0.9454\n",
            "Epoch: 66, Loss: 0.1480, Train: 0.9103, Val: 0.9048, Test: 0.8978\n",
            "Epoch: 67, Loss: 0.2003, Train: 0.9038, Val: 0.8919, Test: 0.9025\n",
            "Epoch: 68, Loss: 0.1730, Train: 0.9707, Val: 0.9579, Test: 0.9540\n",
            "Epoch: 69, Loss: 0.1476, Train: 0.9689, Val: 0.9560, Test: 0.9535\n",
            "Epoch: 70, Loss: 0.1235, Train: 0.9469, Val: 0.9212, Test: 0.9307\n",
            "Epoch: 71, Loss: 0.1499, Train: 0.9524, Val: 0.9414, Test: 0.9315\n",
            "Epoch: 72, Loss: 0.1581, Train: 0.9414, Val: 0.9121, Test: 0.9260\n",
            "Epoch: 73, Loss: 0.1311, Train: 0.9725, Val: 0.9579, Test: 0.9537\n",
            "Epoch: 74, Loss: 0.1264, Train: 0.9725, Val: 0.9579, Test: 0.9537\n",
            "Epoch: 75, Loss: 0.1309, Train: 0.9744, Val: 0.9597, Test: 0.9566\n",
            "Epoch: 76, Loss: 0.1362, Train: 0.9542, Val: 0.9304, Test: 0.9386\n",
            "Epoch: 77, Loss: 0.1459, Train: 0.9689, Val: 0.9579, Test: 0.9537\n",
            "Epoch: 78, Loss: 0.2388, Train: 0.9121, Val: 0.8993, Test: 0.9088\n",
            "Epoch: 79, Loss: 0.1869, Train: 0.9441, Val: 0.9231, Test: 0.9276\n",
            "Epoch: 80, Loss: 0.2268, Train: 0.9432, Val: 0.9249, Test: 0.9294\n",
            "Epoch: 81, Loss: 0.1624, Train: 0.9707, Val: 0.9579, Test: 0.9543\n",
            "Epoch: 82, Loss: 0.1325, Train: 0.9716, Val: 0.9579, Test: 0.9550\n",
            "Epoch: 83, Loss: 0.1232, Train: 0.9679, Val: 0.9560, Test: 0.9535\n",
            "Epoch: 84, Loss: 0.1139, Train: 0.9744, Val: 0.9560, Test: 0.9543\n",
            "Epoch: 85, Loss: 0.1849, Train: 0.9405, Val: 0.9121, Test: 0.9229\n",
            "Epoch: 86, Loss: 0.2388, Train: 0.8984, Val: 0.8883, Test: 0.8955\n",
            "Epoch: 87, Loss: 0.1535, Train: 0.9625, Val: 0.9487, Test: 0.9503\n",
            "Epoch: 88, Loss: 0.1392, Train: 0.9725, Val: 0.9560, Test: 0.9556\n",
            "Epoch: 89, Loss: 0.1238, Train: 0.9487, Val: 0.9212, Test: 0.9313\n",
            "Epoch: 90, Loss: 0.1620, Train: 0.9744, Val: 0.9597, Test: 0.9561\n",
            "Epoch: 91, Loss: 0.1423, Train: 0.9478, Val: 0.9322, Test: 0.9263\n",
            "Epoch: 92, Loss: 0.1403, Train: 0.9570, Val: 0.9286, Test: 0.9349\n",
            "Epoch: 93, Loss: 0.1283, Train: 0.9716, Val: 0.9579, Test: 0.9519\n",
            "Epoch: 94, Loss: 0.1239, Train: 0.9753, Val: 0.9597, Test: 0.9550\n",
            "Epoch: 95, Loss: 0.1136, Train: 0.9560, Val: 0.9286, Test: 0.9370\n",
            "Epoch: 96, Loss: 0.1569, Train: 0.9661, Val: 0.9542, Test: 0.9449\n",
            "Epoch: 97, Loss: 0.1870, Train: 0.9176, Val: 0.8938, Test: 0.9093\n",
            "Epoch: 98, Loss: 0.1368, Train: 0.9716, Val: 0.9542, Test: 0.9558\n",
            "Epoch: 99, Loss: 0.1290, Train: 0.9744, Val: 0.9597, Test: 0.9561\n",
            "Epoch: 100, Loss: 0.1143, Train: 0.9744, Val: 0.9615, Test: 0.9561\n",
            "Epoch: 101, Loss: 0.1144, Train: 0.9780, Val: 0.9597, Test: 0.9564\n",
            "Epoch: 102, Loss: 0.1095, Train: 0.9762, Val: 0.9597, Test: 0.9522\n",
            "Epoch: 103, Loss: 0.1104, Train: 0.9753, Val: 0.9615, Test: 0.9574\n",
            "Epoch: 104, Loss: 0.1057, Train: 0.9771, Val: 0.9634, Test: 0.9564\n",
            "Epoch: 105, Loss: 0.1085, Train: 0.9405, Val: 0.9231, Test: 0.9182\n",
            "Epoch: 106, Loss: 0.2500, Train: 0.8205, Val: 0.8223, Test: 0.8275\n",
            "Epoch: 107, Loss: 0.2046, Train: 0.9597, Val: 0.9432, Test: 0.9475\n",
            "Epoch: 108, Loss: 0.1184, Train: 0.9707, Val: 0.9597, Test: 0.9574\n",
            "Epoch: 109, Loss: 0.1125, Train: 0.9753, Val: 0.9579, Test: 0.9545\n",
            "Epoch: 110, Loss: 0.1132, Train: 0.9780, Val: 0.9634, Test: 0.9558\n",
            "Epoch: 111, Loss: 0.1535, Train: 0.9625, Val: 0.9524, Test: 0.9370\n",
            "Epoch: 112, Loss: 0.2200, Train: 0.9350, Val: 0.9139, Test: 0.9137\n",
            "Epoch: 113, Loss: 0.1968, Train: 0.9716, Val: 0.9524, Test: 0.9556\n",
            "Epoch: 114, Loss: 0.1343, Train: 0.9716, Val: 0.9579, Test: 0.9556\n",
            "Epoch: 115, Loss: 0.1242, Train: 0.9753, Val: 0.9579, Test: 0.9550\n",
            "Epoch: 116, Loss: 0.1120, Train: 0.9753, Val: 0.9579, Test: 0.9577\n",
            "Epoch: 117, Loss: 0.1596, Train: 0.9643, Val: 0.9377, Test: 0.9449\n",
            "Epoch: 118, Loss: 0.1345, Train: 0.9634, Val: 0.9377, Test: 0.9459\n",
            "Epoch: 119, Loss: 0.1111, Train: 0.9670, Val: 0.9597, Test: 0.9472\n",
            "Epoch: 120, Loss: 0.1053, Train: 0.9753, Val: 0.9652, Test: 0.9577\n",
            "Epoch: 121, Loss: 0.1554, Train: 0.9734, Val: 0.9579, Test: 0.9548\n",
            "Epoch: 122, Loss: 0.1518, Train: 0.9478, Val: 0.9304, Test: 0.9315\n",
            "Epoch: 123, Loss: 0.1298, Train: 0.9615, Val: 0.9487, Test: 0.9415\n",
            "Epoch: 124, Loss: 0.1072, Train: 0.9780, Val: 0.9615, Test: 0.9592\n",
            "Epoch: 125, Loss: 0.1171, Train: 0.9780, Val: 0.9597, Test: 0.9550\n",
            "Epoch: 126, Loss: 0.0980, Train: 0.9698, Val: 0.9542, Test: 0.9438\n",
            "Epoch: 127, Loss: 0.1101, Train: 0.9652, Val: 0.9560, Test: 0.9438\n",
            "Epoch: 128, Loss: 0.1134, Train: 0.9725, Val: 0.9469, Test: 0.9490\n",
            "Epoch: 129, Loss: 0.1091, Train: 0.9780, Val: 0.9597, Test: 0.9564\n",
            "Epoch: 130, Loss: 0.1483, Train: 0.9551, Val: 0.9286, Test: 0.9375\n",
            "Epoch: 131, Loss: 0.2965, Train: 0.7802, Val: 0.7930, Test: 0.7815\n",
            "Epoch: 132, Loss: 0.2332, Train: 0.9038, Val: 0.8993, Test: 0.8939\n",
            "Epoch: 133, Loss: 0.1545, Train: 0.9670, Val: 0.9524, Test: 0.9532\n",
            "Epoch: 134, Loss: 0.1201, Train: 0.9744, Val: 0.9634, Test: 0.9545\n",
            "Epoch: 135, Loss: 0.1106, Train: 0.9771, Val: 0.9615, Test: 0.9543\n",
            "Epoch: 136, Loss: 0.1030, Train: 0.9762, Val: 0.9560, Test: 0.9548\n",
            "Epoch: 137, Loss: 0.0983, Train: 0.9780, Val: 0.9579, Test: 0.9522\n",
            "Epoch: 138, Loss: 0.1068, Train: 0.9799, Val: 0.9652, Test: 0.9571\n",
            "Epoch: 139, Loss: 0.1080, Train: 0.9588, Val: 0.9249, Test: 0.9394\n",
            "Epoch: 140, Loss: 0.0962, Train: 0.9670, Val: 0.9542, Test: 0.9433\n",
            "Epoch: 141, Loss: 0.1041, Train: 0.9771, Val: 0.9634, Test: 0.9548\n",
            "Epoch: 142, Loss: 0.1092, Train: 0.9689, Val: 0.9560, Test: 0.9459\n",
            "Epoch: 143, Loss: 0.1190, Train: 0.9542, Val: 0.9194, Test: 0.9349\n",
            "Epoch: 144, Loss: 0.1402, Train: 0.9780, Val: 0.9615, Test: 0.9561\n",
            "Epoch: 145, Loss: 0.1059, Train: 0.9625, Val: 0.9505, Test: 0.9420\n",
            "Epoch: 146, Loss: 0.1161, Train: 0.9789, Val: 0.9634, Test: 0.9592\n",
            "Epoch: 147, Loss: 0.1272, Train: 0.9780, Val: 0.9597, Test: 0.9582\n",
            "Epoch: 148, Loss: 0.1231, Train: 0.9707, Val: 0.9414, Test: 0.9485\n",
            "Epoch: 149, Loss: 0.0989, Train: 0.9789, Val: 0.9634, Test: 0.9584\n"
          ]
        },
        {
          "output_type": "display_data",
          "data": {
            "text/plain": [
              "<Figure size 640x480 with 1 Axes>"
            ],
            "image/png": "[encoded data removed]"
          },
          "metadata": {}
        }
      ],
      "source": [
        "eval_GNN(BaselineGNN(768, 128, 2), gc_train, gc_val, gc_test, batch_size=128, epochs=150)"
      ]
    },
    {
      "cell_type": "code",
      "source": [
        "eval_GNN(BaselineGNN(768, 128, 2), pf_train, pf_val, pf_test, batch_size=128, epochs=145)"
      ],
      "metadata": {
        "colab": {
          "base_uri": "https://localhost:8080/",
          "height": 1000
        },
        "id": "6g9xti1B-zI7",
        "outputId": "ea25cdce-98b5-45d6-a043-9a9aebe7d4b2"
      },
      "id": "6g9xti1B-zI7",
      "execution_count": 44,
      "outputs": [
        {
          "output_type": "stream",
          "name": "stdout",
          "text": [
            "Epoch: 00, Loss: 0.7844, Train: 0.5806, Val: 0.4194, Test: 0.4887\n",
            "Epoch: 01, Loss: 0.7387, Train: 0.5806, Val: 0.4194, Test: 0.4887\n",
            "Epoch: 02, Loss: 0.7162, Train: 0.5806, Val: 0.4194, Test: 0.4887\n",
            "Epoch: 03, Loss: 0.7045, Train: 0.5806, Val: 0.4194, Test: 0.4887\n",
            "Epoch: 04, Loss: 0.6597, Train: 0.5806, Val: 0.4194, Test: 0.4887\n",
            "Epoch: 05, Loss: 0.6843, Train: 0.5806, Val: 0.4194, Test: 0.4887\n",
            "Epoch: 06, Loss: 0.7071, Train: 0.5806, Val: 0.4194, Test: 0.4887\n",
            "Epoch: 07, Loss: 0.6895, Train: 0.5806, Val: 0.4194, Test: 0.4887\n",
            "Epoch: 08, Loss: 0.6700, Train: 0.5806, Val: 0.4194, Test: 0.4887\n",
            "Epoch: 09, Loss: 0.6668, Train: 0.5806, Val: 0.4194, Test: 0.4887\n",
            "Epoch: 10, Loss: 0.6512, Train: 0.5806, Val: 0.4194, Test: 0.4887\n",
            "Epoch: 11, Loss: 0.6946, Train: 0.5806, Val: 0.4194, Test: 0.4887\n",
            "Epoch: 12, Loss: 0.6591, Train: 0.5806, Val: 0.4194, Test: 0.4887\n",
            "Epoch: 13, Loss: 0.6805, Train: 0.5806, Val: 0.4194, Test: 0.4887\n",
            "Epoch: 14, Loss: 0.6690, Train: 0.5806, Val: 0.4194, Test: 0.4887\n",
            "Epoch: 15, Loss: 0.6687, Train: 0.5806, Val: 0.4194, Test: 0.5023\n",
            "Epoch: 16, Loss: 0.6522, Train: 0.5806, Val: 0.4194, Test: 0.4932\n",
            "Epoch: 17, Loss: 0.6619, Train: 0.5806, Val: 0.4194, Test: 0.4887\n",
            "Epoch: 18, Loss: 0.6582, Train: 0.5806, Val: 0.4194, Test: 0.4887\n",
            "Epoch: 19, Loss: 0.6420, Train: 0.5806, Val: 0.4194, Test: 0.4887\n",
            "Epoch: 20, Loss: 0.6545, Train: 0.5806, Val: 0.4194, Test: 0.4887\n",
            "Epoch: 21, Loss: 0.6767, Train: 0.5806, Val: 0.4194, Test: 0.4887\n",
            "Epoch: 22, Loss: 0.6318, Train: 0.5806, Val: 0.4194, Test: 0.4887\n",
            "Epoch: 23, Loss: 0.6350, Train: 0.5806, Val: 0.4194, Test: 0.5023\n",
            "Epoch: 24, Loss: 0.6496, Train: 0.5806, Val: 0.4194, Test: 0.5023\n",
            "Epoch: 25, Loss: 0.6349, Train: 0.5806, Val: 0.4194, Test: 0.4887\n",
            "Epoch: 26, Loss: 0.6076, Train: 0.5806, Val: 0.4194, Test: 0.4887\n",
            "Epoch: 27, Loss: 0.6330, Train: 0.5806, Val: 0.4194, Test: 0.4887\n",
            "Epoch: 28, Loss: 0.6571, Train: 0.5806, Val: 0.4194, Test: 0.4887\n",
            "Epoch: 29, Loss: 0.6151, Train: 0.5806, Val: 0.4194, Test: 0.4887\n",
            "Epoch: 30, Loss: 0.6186, Train: 0.5806, Val: 0.4516, Test: 0.4932\n",
            "Epoch: 31, Loss: 0.6570, Train: 0.8710, Val: 0.7742, Test: 0.7059\n",
            "Epoch: 32, Loss: 0.6310, Train: 0.8387, Val: 0.7742, Test: 0.8009\n",
            "Epoch: 33, Loss: 0.6127, Train: 0.8710, Val: 0.8065, Test: 0.7738\n",
            "Epoch: 34, Loss: 0.6198, Train: 0.6290, Val: 0.5484, Test: 0.5611\n",
            "Epoch: 35, Loss: 0.5940, Train: 0.5806, Val: 0.4194, Test: 0.4887\n",
            "Epoch: 36, Loss: 0.6278, Train: 0.5806, Val: 0.4194, Test: 0.4887\n",
            "Epoch: 37, Loss: 0.6342, Train: 0.5806, Val: 0.5161, Test: 0.5249\n",
            "Epoch: 38, Loss: 0.6066, Train: 0.8871, Val: 0.8065, Test: 0.7602\n",
            "Epoch: 39, Loss: 0.5870, Train: 0.8226, Val: 0.7742, Test: 0.8326\n",
            "Epoch: 40, Loss: 0.5799, Train: 0.8387, Val: 0.7742, Test: 0.8462\n",
            "Epoch: 41, Loss: 0.5807, Train: 0.8710, Val: 0.8065, Test: 0.7557\n",
            "Epoch: 42, Loss: 0.6010, Train: 0.6452, Val: 0.5806, Test: 0.5430\n",
            "Epoch: 43, Loss: 0.5756, Train: 0.5806, Val: 0.4194, Test: 0.4887\n",
            "Epoch: 44, Loss: 0.5638, Train: 0.5806, Val: 0.4194, Test: 0.4887\n",
            "Epoch: 45, Loss: 0.5729, Train: 0.5968, Val: 0.4194, Test: 0.4977\n",
            "Epoch: 46, Loss: 0.5435, Train: 0.8710, Val: 0.8065, Test: 0.7873\n",
            "Epoch: 47, Loss: 0.5697, Train: 0.7903, Val: 0.8065, Test: 0.8326\n",
            "Epoch: 48, Loss: 0.5352, Train: 0.7903, Val: 0.8387, Test: 0.8190\n",
            "Epoch: 49, Loss: 0.5431, Train: 0.8710, Val: 0.8065, Test: 0.7828\n",
            "Epoch: 50, Loss: 0.4894, Train: 0.6613, Val: 0.5484, Test: 0.5204\n",
            "Epoch: 51, Loss: 0.5772, Train: 0.8226, Val: 0.8065, Test: 0.7466\n",
            "Epoch: 52, Loss: 0.4963, Train: 0.9032, Val: 0.8065, Test: 0.8371\n",
            "Epoch: 53, Loss: 0.4793, Train: 0.8871, Val: 0.8065, Test: 0.8416\n",
            "Epoch: 54, Loss: 0.5560, Train: 0.9032, Val: 0.8065, Test: 0.8371\n",
            "Epoch: 55, Loss: 0.4691, Train: 0.8226, Val: 0.7742, Test: 0.7330\n",
            "Epoch: 56, Loss: 0.4904, Train: 0.7903, Val: 0.6452, Test: 0.6425\n",
            "Epoch: 57, Loss: 0.4716, Train: 0.8226, Val: 0.8387, Test: 0.7511\n",
            "Epoch: 58, Loss: 0.4446, Train: 0.9032, Val: 0.8065, Test: 0.8371\n",
            "Epoch: 59, Loss: 0.4616, Train: 0.9032, Val: 0.8065, Test: 0.8281\n",
            "Epoch: 60, Loss: 0.4624, Train: 0.8871, Val: 0.8065, Test: 0.8326\n",
            "Epoch: 61, Loss: 0.4400, Train: 0.9032, Val: 0.8065, Test: 0.8326\n",
            "Epoch: 62, Loss: 0.4232, Train: 0.8871, Val: 0.8387, Test: 0.8100\n",
            "Epoch: 63, Loss: 0.5097, Train: 0.9032, Val: 0.8065, Test: 0.8507\n",
            "Epoch: 64, Loss: 0.4386, Train: 0.8871, Val: 0.8065, Test: 0.8462\n",
            "Epoch: 65, Loss: 0.4600, Train: 0.9194, Val: 0.8065, Test: 0.8507\n",
            "Epoch: 66, Loss: 0.4002, Train: 0.9194, Val: 0.8710, Test: 0.8416\n",
            "Epoch: 67, Loss: 0.4198, Train: 0.9355, Val: 0.8065, Test: 0.8597\n",
            "Epoch: 68, Loss: 0.4087, Train: 0.8871, Val: 0.8065, Test: 0.8552\n",
            "Epoch: 69, Loss: 0.3520, Train: 0.9032, Val: 0.8065, Test: 0.8597\n",
            "Epoch: 70, Loss: 0.3945, Train: 0.9194, Val: 0.8065, Test: 0.8507\n",
            "Epoch: 71, Loss: 0.3722, Train: 0.9355, Val: 0.8065, Test: 0.8597\n",
            "Epoch: 72, Loss: 0.3752, Train: 0.9032, Val: 0.8710, Test: 0.8462\n",
            "Epoch: 73, Loss: 0.3897, Train: 0.9194, Val: 0.8710, Test: 0.8597\n",
            "Epoch: 74, Loss: 0.3650, Train: 0.8871, Val: 0.8710, Test: 0.8552\n",
            "Epoch: 75, Loss: 0.3028, Train: 0.9032, Val: 0.8387, Test: 0.8281\n",
            "Epoch: 76, Loss: 0.4048, Train: 0.8387, Val: 0.7742, Test: 0.7602\n",
            "Epoch: 77, Loss: 0.3842, Train: 0.9355, Val: 0.8065, Test: 0.8643\n",
            "Epoch: 78, Loss: 0.3592, Train: 0.8871, Val: 0.8065, Test: 0.8371\n",
            "Epoch: 79, Loss: 0.3387, Train: 0.9032, Val: 0.8710, Test: 0.8688\n",
            "Epoch: 80, Loss: 0.3255, Train: 0.9194, Val: 0.8387, Test: 0.8326\n",
            "Epoch: 81, Loss: 0.3299, Train: 0.9516, Val: 0.8710, Test: 0.8507\n",
            "Epoch: 82, Loss: 0.3092, Train: 0.9032, Val: 0.8710, Test: 0.8688\n",
            "Epoch: 83, Loss: 0.3733, Train: 0.9516, Val: 0.8065, Test: 0.8688\n",
            "Epoch: 84, Loss: 0.3018, Train: 0.9194, Val: 0.8710, Test: 0.8416\n",
            "Epoch: 85, Loss: 0.2710, Train: 0.9355, Val: 0.8387, Test: 0.8733\n",
            "Epoch: 86, Loss: 0.3248, Train: 0.9032, Val: 0.8710, Test: 0.8597\n",
            "Epoch: 87, Loss: 0.2864, Train: 0.9355, Val: 0.8710, Test: 0.8688\n",
            "Epoch: 88, Loss: 0.2720, Train: 0.9355, Val: 0.8710, Test: 0.8597\n",
            "Epoch: 89, Loss: 0.3332, Train: 0.8387, Val: 0.8387, Test: 0.8100\n",
            "Epoch: 90, Loss: 0.4727, Train: 0.9032, Val: 0.8710, Test: 0.8552\n",
            "Epoch: 91, Loss: 0.2955, Train: 0.8871, Val: 0.8065, Test: 0.7783\n",
            "Epoch: 92, Loss: 0.3488, Train: 0.9516, Val: 0.9032, Test: 0.8688\n",
            "Epoch: 93, Loss: 0.3114, Train: 0.9194, Val: 0.8065, Test: 0.8190\n",
            "Epoch: 94, Loss: 0.3215, Train: 0.9516, Val: 0.8065, Test: 0.8326\n",
            "Epoch: 95, Loss: 0.3140, Train: 0.9516, Val: 0.9032, Test: 0.8597\n",
            "Epoch: 96, Loss: 0.2481, Train: 0.8871, Val: 0.6774, Test: 0.7557\n",
            "Epoch: 97, Loss: 0.3229, Train: 0.9355, Val: 0.8065, Test: 0.8462\n",
            "Epoch: 98, Loss: 0.2817, Train: 0.9194, Val: 0.8387, Test: 0.8597\n",
            "Epoch: 99, Loss: 0.2879, Train: 0.9516, Val: 0.8065, Test: 0.8597\n",
            "Epoch: 100, Loss: 0.2575, Train: 0.9516, Val: 0.8710, Test: 0.8643\n",
            "Epoch: 101, Loss: 0.2929, Train: 0.9516, Val: 0.9032, Test: 0.8597\n",
            "Epoch: 102, Loss: 0.2459, Train: 0.9516, Val: 0.8710, Test: 0.8643\n",
            "Epoch: 103, Loss: 0.3086, Train: 0.9516, Val: 0.8065, Test: 0.8416\n",
            "Epoch: 104, Loss: 0.2772, Train: 0.9516, Val: 0.8710, Test: 0.8643\n",
            "Epoch: 105, Loss: 0.2302, Train: 0.9516, Val: 0.9032, Test: 0.8688\n",
            "Epoch: 106, Loss: 0.2804, Train: 0.9516, Val: 0.8387, Test: 0.8643\n",
            "Epoch: 107, Loss: 0.2207, Train: 0.9355, Val: 0.8065, Test: 0.8145\n",
            "Epoch: 108, Loss: 0.2628, Train: 0.9516, Val: 0.9032, Test: 0.8643\n",
            "Epoch: 109, Loss: 0.2646, Train: 0.9516, Val: 0.9032, Test: 0.8507\n",
            "Epoch: 110, Loss: 0.2211, Train: 0.9677, Val: 0.9032, Test: 0.8688\n",
            "Epoch: 111, Loss: 0.2284, Train: 0.9516, Val: 0.9032, Test: 0.8643\n",
            "Epoch: 112, Loss: 0.1960, Train: 0.9839, Val: 0.8710, Test: 0.8688\n",
            "Epoch: 113, Loss: 0.2258, Train: 0.9839, Val: 0.8710, Test: 0.8688\n",
            "Epoch: 114, Loss: 0.2348, Train: 0.9516, Val: 0.9032, Test: 0.8688\n",
            "Epoch: 115, Loss: 0.2000, Train: 0.9516, Val: 0.9355, Test: 0.8552\n",
            "Epoch: 116, Loss: 0.2185, Train: 0.9839, Val: 0.8387, Test: 0.8597\n",
            "Epoch: 117, Loss: 0.2118, Train: 0.9516, Val: 0.8065, Test: 0.8507\n",
            "Epoch: 118, Loss: 0.1989, Train: 0.9516, Val: 0.9355, Test: 0.8597\n",
            "Epoch: 119, Loss: 0.2166, Train: 0.9516, Val: 0.8710, Test: 0.8462\n",
            "Epoch: 120, Loss: 0.2272, Train: 0.9839, Val: 0.8387, Test: 0.8688\n",
            "Epoch: 121, Loss: 0.1452, Train: 0.9677, Val: 0.8387, Test: 0.8552\n",
            "Epoch: 122, Loss: 0.1932, Train: 0.9839, Val: 0.8710, Test: 0.8688\n",
            "Epoch: 123, Loss: 0.1879, Train: 0.9839, Val: 0.8710, Test: 0.8688\n",
            "Epoch: 124, Loss: 0.2137, Train: 0.9839, Val: 0.8387, Test: 0.8552\n",
            "Epoch: 125, Loss: 0.2214, Train: 0.9839, Val: 0.8710, Test: 0.8688\n",
            "Epoch: 126, Loss: 0.1541, Train: 0.9839, Val: 0.9032, Test: 0.8688\n",
            "Epoch: 127, Loss: 0.1659, Train: 0.9839, Val: 0.8710, Test: 0.8688\n",
            "Epoch: 128, Loss: 0.1690, Train: 1.0000, Val: 0.8387, Test: 0.8507\n",
            "Epoch: 129, Loss: 0.1937, Train: 0.9839, Val: 0.8710, Test: 0.8643\n",
            "Epoch: 130, Loss: 0.1679, Train: 0.9839, Val: 0.9355, Test: 0.8643\n",
            "Epoch: 131, Loss: 0.2064, Train: 0.9839, Val: 0.9032, Test: 0.8778\n",
            "Epoch: 132, Loss: 0.1850, Train: 1.0000, Val: 0.8387, Test: 0.8552\n",
            "Epoch: 133, Loss: 0.1491, Train: 0.9839, Val: 0.9355, Test: 0.8688\n",
            "Epoch: 134, Loss: 0.1573, Train: 0.9839, Val: 0.9032, Test: 0.8733\n",
            "Epoch: 135, Loss: 0.1967, Train: 0.9839, Val: 0.8387, Test: 0.8552\n",
            "Epoch: 136, Loss: 0.1825, Train: 0.9516, Val: 0.8065, Test: 0.8462\n",
            "Epoch: 137, Loss: 0.1866, Train: 0.9355, Val: 0.7742, Test: 0.8281\n",
            "Epoch: 138, Loss: 0.2275, Train: 0.9839, Val: 0.9355, Test: 0.8733\n",
            "Epoch: 139, Loss: 0.1745, Train: 0.9516, Val: 0.8065, Test: 0.8326\n",
            "Epoch: 140, Loss: 0.1539, Train: 1.0000, Val: 0.8710, Test: 0.8643\n",
            "Epoch: 141, Loss: 0.1228, Train: 0.9516, Val: 0.8065, Test: 0.8597\n",
            "Epoch: 142, Loss: 0.1666, Train: 1.0000, Val: 0.8710, Test: 0.8552\n",
            "Epoch: 143, Loss: 0.1569, Train: 0.9516, Val: 0.8065, Test: 0.8326\n",
            "Epoch: 144, Loss: 0.1886, Train: 0.9839, Val: 0.9032, Test: 0.8778\n"
          ]
        },
        {
          "output_type": "display_data",
          "data": {
            "text/plain": [
              "<Figure size 640x480 with 1 Axes>"
            ],
            "image/png": "[encoded data removed]"
          },
          "metadata": {}
        }
      ]
    }
  ],
  "metadata": {
    "kernelspec": {
      "display_name": "Python 3 (ipykernel)",
      "language": "python",
      "name": "python3"
    },
    "language_info": {
      "codemirror_mode": {
        "name": "ipython",
        "version": 3
      },
      "file_extension": ".py",
      "mimetype": "text/x-python",
      "name": "python",
      "nbconvert_exporter": "python",
      "pygments_lexer": "ipython3",
      "version": "3.9.18"
    },
    "colab": {
      "provenance": []
    }
  },
  "nbformat": 4,
  "nbformat_minor": 5
}