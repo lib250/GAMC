{
  "cells": [
    {
      "cell_type": "code",
      "source": [
        "!pip install torch_geometric"
      ],
      "metadata": {
        "colab": {
          "base_uri": "https://localhost:8080/"
        },
        "id": "la2Pf4ELJfXz",
        "outputId": "b215a55c-eeb1-4be4-d1b1-fb864369dc2f"
      },
      "id": "la2Pf4ELJfXz",
      "execution_count": 1,
      "outputs": [
        {
          "output_type": "stream",
          "name": "stdout",
          "text": [
            "Requirement already satisfied: torch_geometric in /usr/local/lib/python3.10/dist-packages (2.5.3)\n",
            "Requirement already satisfied: tqdm in /usr/local/lib/python3.10/dist-packages (from torch_geometric) (4.66.2)\n",
            "Requirement already satisfied: numpy in /usr/local/lib/python3.10/dist-packages (from torch_geometric) (1.25.2)\n",
            "Requirement already satisfied: scipy in /usr/local/lib/python3.10/dist-packages (from torch_geometric) (1.11.4)\n",
            "Requirement already satisfied: fsspec in /usr/local/lib/python3.10/dist-packages (from torch_geometric) (2023.6.0)\n",
            "Requirement already satisfied: jinja2 in /usr/local/lib/python3.10/dist-packages (from torch_geometric) (3.1.3)\n",
            "Requirement already satisfied: aiohttp in /usr/local/lib/python3.10/dist-packages (from torch_geometric) (3.9.5)\n",
            "Requirement already satisfied: requests in /usr/local/lib/python3.10/dist-packages (from torch_geometric) (2.31.0)\n",
            "Requirement already satisfied: pyparsing in /usr/local/lib/python3.10/dist-packages (from torch_geometric) (3.1.2)\n",
            "Requirement already satisfied: scikit-learn in /usr/local/lib/python3.10/dist-packages (from torch_geometric) (1.2.2)\n",
            "Requirement already satisfied: psutil>=5.8.0 in /usr/local/lib/python3.10/dist-packages (from torch_geometric) (5.9.5)\n",
            "Requirement already satisfied: aiosignal>=1.1.2 in /usr/local/lib/python3.10/dist-packages (from aiohttp->torch_geometric) (1.3.1)\n",
            "Requirement already satisfied: attrs>=17.3.0 in /usr/local/lib/python3.10/dist-packages (from aiohttp->torch_geometric) (23.2.0)\n",
            "Requirement already satisfied: frozenlist>=1.1.1 in /usr/local/lib/python3.10/dist-packages (from aiohttp->torch_geometric) (1.4.1)\n",
            "Requirement already satisfied: multidict<7.0,>=4.5 in /usr/local/lib/python3.10/dist-packages (from aiohttp->torch_geometric) (6.0.5)\n",
            "Requirement already satisfied: yarl<2.0,>=1.0 in /usr/local/lib/python3.10/dist-packages (from aiohttp->torch_geometric) (1.9.4)\n",
            "Requirement already satisfied: async-timeout<5.0,>=4.0 in /usr/local/lib/python3.10/dist-packages (from aiohttp->torch_geometric) (4.0.3)\n",
            "Requirement already satisfied: MarkupSafe>=2.0 in /usr/local/lib/python3.10/dist-packages (from jinja2->torch_geometric) (2.1.5)\n",
            "Requirement already satisfied: charset-normalizer<4,>=2 in /usr/local/lib/python3.10/dist-packages (from requests->torch_geometric) (3.3.2)\n",
            "Requirement already satisfied: idna<4,>=2.5 in /usr/local/lib/python3.10/dist-packages (from requests->torch_geometric) (3.7)\n",
            "Requirement already satisfied: urllib3<3,>=1.21.1 in /usr/local/lib/python3.10/dist-packages (from requests->torch_geometric) (2.0.7)\n",
            "Requirement already satisfied: certifi>=2017.4.17 in /usr/local/lib/python3.10/dist-packages (from requests->torch_geometric) (2024.2.2)\n",
            "Requirement already satisfied: joblib>=1.1.1 in /usr/local/lib/python3.10/dist-packages (from scikit-learn->torch_geometric) (1.4.0)\n",
            "Requirement already satisfied: threadpoolctl>=2.0.0 in /usr/local/lib/python3.10/dist-packages (from scikit-learn->torch_geometric) (3.4.0)\n"
          ]
        }
      ]
    },
    {
      "cell_type": "code",
      "execution_count": 66,
      "id": "5201ffc1-0bda-483e-a1fc-5a246cb4babe",
      "metadata": {
        "id": "5201ffc1-0bda-483e-a1fc-5a246cb4babe"
      },
      "outputs": [],
      "source": [
        "import torch\n",
        "import torch.nn.functional as F\n",
        "from torch.nn import Linear, ReLU, Sequential\n",
        "from torch.nn import BatchNorm1d as BatchNorm\n",
        "\n",
        "from torch_geometric.datasets import UPFD\n",
        "from torch_geometric.loader import DataLoader\n",
        "from torch_geometric.nn import GATConv, GCNConv, SAGEConv, GINConv, global_add_pool, global_max_pool, global_mean_pool\n",
        "from torch_geometric.transforms import ToUndirected\n",
        "from torch_geometric.nn.models.autoencoder import InnerProductDecoder\n",
        "\n",
        "from sklearn.linear_model import LogisticRegression\n",
        "from sklearn.cluster import KMeans\n",
        "import numpy as np\n",
        "\n",
        "%matplotlib inline\n",
        "import matplotlib.pyplot as plt\n",
        "import networkx as nx\n",
        "from sklearn.manifold import TSNE"
      ]
    },
    {
      "cell_type": "code",
      "execution_count": 3,
      "id": "a4539385-87f6-4759-9fdd-0abd09620af8",
      "metadata": {
        "colab": {
          "base_uri": "https://localhost:8080/"
        },
        "id": "a4539385-87f6-4759-9fdd-0abd09620af8",
        "outputId": "8a718809-ce4e-4834-8267-f28bf0e32006"
      },
      "outputs": [
        {
          "output_type": "stream",
          "name": "stdout",
          "text": [
            "Drive already mounted at /content/drive; to attempt to forcibly remount, call drive.mount(\"/content/drive\", force_remount=True).\n"
          ]
        }
      ],
      "source": [
        "from google.colab import drive\n",
        "drive.mount('/content/drive')\n",
        "path = 'drive/MyDrive/CS365/data/UPFD'"
      ]
    },
    {
      "cell_type": "code",
      "execution_count": 67,
      "id": "0c4939d5-f918-4c8d-af2c-bd64dcc6feca",
      "metadata": {
        "id": "0c4939d5-f918-4c8d-af2c-bd64dcc6feca"
      },
      "outputs": [],
      "source": [
        "pf_train = UPFD(path, 'politifact', 'bert', 'train', ToUndirected())\n",
        "pf_val = UPFD(path, 'politifact', 'bert', 'val', ToUndirected())\n",
        "pf_test = UPFD(path, 'politifact', 'bert', 'test', ToUndirected())\n",
        "\n",
        "gc_train = UPFD(path, 'gossipcop', 'bert', 'train', ToUndirected())\n",
        "gc_val = UPFD(path, 'gossipcop', 'bert', 'val', ToUndirected())\n",
        "gc_test = UPFD(path, 'gossipcop', 'bert', 'test', ToUndirected())\n"
      ]
    },
    {
      "cell_type": "code",
      "execution_count": 68,
      "id": "bbb64a5f-3f96-42fa-9403-cae57bb5c542",
      "metadata": {
        "colab": {
          "base_uri": "https://localhost:8080/"
        },
        "id": "bbb64a5f-3f96-42fa-9403-cae57bb5c542",
        "outputId": "5e69db8b-273b-439c-9595-7a932a829a5f"
      },
      "outputs": [
        {
          "output_type": "stream",
          "name": "stdout",
          "text": [
            "==== POLITIFACT ====\n",
            "Train: UPFD(62, name=politifact, feature=bert)\n",
            "Val: UPFD(31, name=politifact, feature=bert)\n",
            "Test: UPFD(221, name=politifact, feature=bert)\n",
            "\n",
            "==== GOSSIPCOP ====\n",
            "Train: UPFD(1092, name=gossipcop, feature=bert)\n",
            "Val: UPFD(546, name=gossipcop, feature=bert)\n",
            "Test: UPFD(3826, name=gossipcop, feature=bert)\n"
          ]
        }
      ],
      "source": [
        "print(\"==== POLITIFACT ====\")\n",
        "print(\"Train:\", pf_train)\n",
        "print(\"Val:\", pf_val)\n",
        "print(\"Test:\", pf_test)\n",
        "\n",
        "print(\"\\n==== GOSSIPCOP ====\")\n",
        "print(\"Train:\", gc_train)\n",
        "print(\"Val:\", gc_val)\n",
        "print(\"Test:\", gc_test)\n"
      ]
    },
    {
      "cell_type": "code",
      "source": [
        "class GIN(torch.nn.Module):\n",
        "    def __init__(self, in_channels, hidden_channels, num_layers):\n",
        "        super().__init__()\n",
        "\n",
        "        self.convs = torch.nn.ModuleList()\n",
        "        self.batch_norms = torch.nn.ModuleList()\n",
        "\n",
        "        for i in range(num_layers):\n",
        "            mlp = Sequential(\n",
        "                Linear(in_channels, 2 * hidden_channels),\n",
        "                BatchNorm(2 * hidden_channels),\n",
        "                ReLU(),\n",
        "                Linear(2 * hidden_channels, hidden_channels),\n",
        "            )\n",
        "            conv = GINConv(mlp, train_eps=True)\n",
        "\n",
        "            self.convs.append(conv)\n",
        "            self.batch_norms.append(BatchNorm(hidden_channels))\n",
        "\n",
        "            in_channels = hidden_channels\n",
        "\n",
        "    def forward(self, x, edge_index):\n",
        "        layer = 0\n",
        "        for conv, batch_norm in zip(self.convs, self.batch_norms):\n",
        "            x = F.relu(batch_norm(conv(x, edge_index))) if layer == 0 else batch_norm(conv(x, edge_index))\n",
        "            layer += 1\n",
        "        return x"
      ],
      "metadata": {
        "id": "9p8DphFhVoCe"
      },
      "id": "9p8DphFhVoCe",
      "execution_count": 69,
      "outputs": []
    },
    {
      "cell_type": "code",
      "source": [
        "def joint_loss(x1, x2, r1, r2):\n",
        "    diff1 = x1 - r2\n",
        "    diff2 = x2 - r2\n",
        "    rec1 = (diff1 ** 2).sum(dim=1).mean()\n",
        "    rec2 = (diff2 ** 2).sum(dim=1).mean()\n",
        "    rec_loss = (rec1 + rec2) / 2\n",
        "\n",
        "    con_loss = F.cosine_similarity(r1, r2, dim=1).mean()\n",
        "    return rec_loss - 0.1 * con_loss\n",
        "\n",
        "def mask_nodes(x, mask_token, rate=0.5):\n",
        "    mask = torch.rand(x.size(0)) < rate\n",
        "    masked = x.clone()\n",
        "    masked[mask] = mask_token\n",
        "    return masked, mask\n",
        "\n",
        "def remask_nodes(h, mask_idx, remask_token):\n",
        "    remasked = h.clone()\n",
        "    remasked[mask_idx] = remask_token\n",
        "    return remasked\n",
        "\n",
        "def edge_drop(edge_idx, rate=0.2):\n",
        "    idxs = torch.zeros(edge_idx.shape[1])\n",
        "    idxs[int(rate*edge_idx.shape[1]):] = 1\n",
        "    idxs = idxs[torch.randperm(idxs.shape[0])]\n",
        "    dropped = edge_idx.clone()\n",
        "    return dropped[:,idxs.bool()]"
      ],
      "metadata": {
        "id": "fI-iQuFCd0-6"
      },
      "id": "fI-iQuFCd0-6",
      "execution_count": 70,
      "outputs": []
    },
    {
      "cell_type": "code",
      "execution_count": 71,
      "id": "bf5d90b5-ed61-4d51-b753-ea4493057074",
      "metadata": {
        "id": "bf5d90b5-ed61-4d51-b753-ea4493057074"
      },
      "outputs": [],
      "source": [
        "def eval_GAMC(model, decoder, train_dataset, val_dataset, test_dataset, epochs=80, batch_size=1):\n",
        "    train_loader = DataLoader(train_dataset, batch_size=batch_size, shuffle=True)\n",
        "    val_loader = DataLoader(val_dataset, batch_size=batch_size, shuffle=False)\n",
        "    test_loader = DataLoader(test_dataset, batch_size=batch_size, shuffle=False)\n",
        "\n",
        "    device = torch.device('cuda' if torch.cuda.is_available() else 'cpu')\n",
        "    model=model.to(device)\n",
        "    decoder = decoder.to(device)\n",
        "\n",
        "    optimizer = torch.optim.Adam(model.parameters(), lr=0.001)\n",
        "    criterion = joint_loss\n",
        "\n",
        "    mask_token = torch.rand(768)\n",
        "    remask_token = torch.rand(512)\n",
        "\n",
        "    def train():\n",
        "        model.train()\n",
        "\n",
        "        total_loss = 0\n",
        "        for data in train_loader:\n",
        "\n",
        "            # random node masking\n",
        "            x1, mask1 = mask_nodes(data.x, mask_token)\n",
        "            x2, mask2 = mask_nodes(data.x, mask_token)\n",
        "\n",
        "            # random edge dropping\n",
        "            e1 = edge_drop(data.edge_index)\n",
        "            e2 = edge_drop(data.edge_index)\n",
        "\n",
        "            x1, x2 = x1.to(device), x2.to(device)\n",
        "            optimizer.zero_grad()\n",
        "\n",
        "            # encoding\n",
        "            h1 = model(x1, e1)\n",
        "            h2 = model(x2, e2)\n",
        "\n",
        "            # remask step\n",
        "            h1 = remask_nodes(h1, mask1, remask_token)\n",
        "            h2 = remask_nodes(h2, mask2, remask_token)\n",
        "\n",
        "            # decoding\n",
        "            r1 = decoder(h1, e1)\n",
        "            r2 = decoder(h2, e2)\n",
        "\n",
        "            loss = criterion(x1, x2, r1, r2)\n",
        "            loss.backward()\n",
        "            optimizer.step()\n",
        "\n",
        "            total_loss += float(loss) * data.num_graphs\n",
        "\n",
        "        return total_loss / len(train_loader.dataset)\n",
        "\n",
        "    @torch.no_grad()\n",
        "    def test(loader):\n",
        "        model.eval()\n",
        "\n",
        "        num_correct = 0\n",
        "        total = 0\n",
        "        for data in loader:\n",
        "            data = data.to(device)\n",
        "            out = model(data.x, data.edge_index, data.batch)\n",
        "            pred = out.argmax(dim=1)\n",
        "            num_correct += int((pred == data.y).sum())\n",
        "            total += data.num_graphs\n",
        "\n",
        "        return num_correct / total\n",
        "\n",
        "    train_losses = np.zeros((epochs))\n",
        "\n",
        "    for epoch in range(epochs):\n",
        "        loss = train()\n",
        "        train_losses[epoch] = loss\n",
        "        print(f'Epoch: {epoch:02d}, Loss: {loss:.4f}')\n",
        "\n",
        "    fig, ax = plt.subplots()\n",
        "    ax.plot(train_losses,'r-',label='train')\n",
        "    ax.set_xlim(0,epochs)\n",
        "    ax.set_xlabel('Epoch'); ax.set_ylabel('Error')\n",
        "    ax.legend()\n",
        "    plt.show()\n",
        "\n",
        "    return model, decoder, train_losses"
      ]
    },
    {
      "cell_type": "code",
      "execution_count": 72,
      "id": "82fba362-4269-4dd1-ba13-9439f1216f9b",
      "metadata": {
        "colab": {
          "base_uri": "https://localhost:8080/",
          "height": 1000
        },
        "id": "82fba362-4269-4dd1-ba13-9439f1216f9b",
        "outputId": "8ecfb42f-9cf9-4d27-da8f-711ad6c05cf8"
      },
      "outputs": [
        {
          "output_type": "stream",
          "name": "stdout",
          "text": [
            "Epoch: 00, Loss: 1174.8362\n",
            "Epoch: 01, Loss: 1175.3892\n",
            "Epoch: 02, Loss: 1172.4952\n",
            "Epoch: 03, Loss: 1174.7344\n",
            "Epoch: 04, Loss: 1173.3221\n",
            "Epoch: 05, Loss: 1171.1324\n",
            "Epoch: 06, Loss: 1173.6680\n",
            "Epoch: 07, Loss: 1168.4865\n",
            "Epoch: 08, Loss: 1172.3054\n",
            "Epoch: 09, Loss: 1172.4183\n",
            "Epoch: 10, Loss: 1166.1962\n",
            "Epoch: 11, Loss: 1169.7444\n",
            "Epoch: 12, Loss: 1167.0153\n",
            "Epoch: 13, Loss: 1172.1173\n",
            "Epoch: 14, Loss: 1169.9154\n",
            "Epoch: 15, Loss: 1168.7850\n",
            "Epoch: 16, Loss: 1170.1772\n",
            "Epoch: 17, Loss: 1167.9761\n",
            "Epoch: 18, Loss: 1169.2990\n",
            "Epoch: 19, Loss: 1166.4948\n",
            "Epoch: 20, Loss: 1167.7300\n",
            "Epoch: 21, Loss: 1169.6033\n",
            "Epoch: 22, Loss: 1165.4355\n",
            "Epoch: 23, Loss: 1168.0564\n",
            "Epoch: 24, Loss: 1169.3173\n",
            "Epoch: 25, Loss: 1169.1724\n",
            "Epoch: 26, Loss: 1167.7808\n",
            "Epoch: 27, Loss: 1167.9730\n",
            "Epoch: 28, Loss: 1168.2493\n",
            "Epoch: 29, Loss: 1168.4100\n",
            "Epoch: 30, Loss: 1168.2083\n",
            "Epoch: 31, Loss: 1165.6827\n",
            "Epoch: 32, Loss: 1166.1829\n",
            "Epoch: 33, Loss: 1167.4761\n",
            "Epoch: 34, Loss: 1169.9919\n",
            "Epoch: 35, Loss: 1167.1062\n",
            "Epoch: 36, Loss: 1166.5479\n",
            "Epoch: 37, Loss: 1170.1898\n",
            "Epoch: 38, Loss: 1166.4030\n",
            "Epoch: 39, Loss: 1166.5411\n",
            "Epoch: 40, Loss: 1166.8704\n",
            "Epoch: 41, Loss: 1165.5276\n",
            "Epoch: 42, Loss: 1167.5323\n",
            "Epoch: 43, Loss: 1163.5011\n",
            "Epoch: 44, Loss: 1167.0754\n",
            "Epoch: 45, Loss: 1165.7971\n",
            "Epoch: 46, Loss: 1164.4683\n",
            "Epoch: 47, Loss: 1163.4510\n",
            "Epoch: 48, Loss: 1164.4791\n",
            "Epoch: 49, Loss: 1164.4640\n",
            "Epoch: 50, Loss: 1165.1826\n",
            "Epoch: 51, Loss: 1166.1952\n",
            "Epoch: 52, Loss: 1165.7847\n",
            "Epoch: 53, Loss: 1165.4269\n",
            "Epoch: 54, Loss: 1165.2700\n",
            "Epoch: 55, Loss: 1163.6932\n",
            "Epoch: 56, Loss: 1166.2806\n",
            "Epoch: 57, Loss: 1164.5148\n",
            "Epoch: 58, Loss: 1164.1359\n",
            "Epoch: 59, Loss: 1163.6943\n",
            "Epoch: 60, Loss: 1161.8741\n",
            "Epoch: 61, Loss: 1163.8156\n",
            "Epoch: 62, Loss: 1166.5475\n",
            "Epoch: 63, Loss: 1163.0188\n",
            "Epoch: 64, Loss: 1162.2200\n",
            "Epoch: 65, Loss: 1162.5637\n",
            "Epoch: 66, Loss: 1167.8081\n",
            "Epoch: 67, Loss: 1159.9451\n",
            "Epoch: 68, Loss: 1165.2816\n",
            "Epoch: 69, Loss: 1164.3080\n",
            "Epoch: 70, Loss: 1167.1477\n",
            "Epoch: 71, Loss: 1161.4830\n",
            "Epoch: 72, Loss: 1165.9364\n",
            "Epoch: 73, Loss: 1166.1844\n",
            "Epoch: 74, Loss: 1164.2461\n",
            "Epoch: 75, Loss: 1165.2538\n",
            "Epoch: 76, Loss: 1160.9338\n",
            "Epoch: 77, Loss: 1164.4282\n",
            "Epoch: 78, Loss: 1163.5830\n",
            "Epoch: 79, Loss: 1162.4923\n"
          ]
        },
        {
          "output_type": "display_data",
          "data": {
            "text/plain": [
              "<Figure size 640x480 with 1 Axes>"
            ],
            "image/png": "[encoded data removed]"
          },
          "metadata": {}
        }
      ],
      "source": [
        "pf_encoder, pf_decoder, pf_train_losses = eval_GAMC(GIN(768, 512, 2), GIN(512, 768, 2), pf_train, pf_val, pf_test, batch_size=128, epochs=80)"
      ]
    },
    {
      "cell_type": "code",
      "source": [
        "from sklearn.svm import LinearSVC, SVC\n",
        "\n",
        "def eval_meanpool_classifier(encoder, decoder, train_graphs, test_graphs):\n",
        "    X_train = np.zeros((len(train_graphs), 768))\n",
        "    y_train = np.zeros((len(train_graphs)))\n",
        "\n",
        "    X_test = np.zeros((len(test_graphs), 768))\n",
        "    y_test = np.zeros((len(test_graphs)))\n",
        "\n",
        "    with torch.no_grad():\n",
        "        for i in range(len(train_graphs)):\n",
        "            h = encoder(train_graphs[i].x, train_graphs[i].edge_index)\n",
        "            r = decoder(h, train_graphs[i].edge_index)\n",
        "            X_train[i] = r.mean(dim=0)\n",
        "            y_train[i] = train_graphs[i].y.item()\n",
        "\n",
        "        for i in range(len(test_graphs)):\n",
        "            h = encoder(test_graphs[i].x, test_graphs[i].edge_index)\n",
        "            r = decoder(h, test_graphs[i].edge_index)\n",
        "            X_test[i] = r.mean(dim=0)\n",
        "            y_test[i] = test_graphs[i].y.item()\n",
        "\n",
        "\n",
        "    svm = SVC(gamma='auto', random_state=0, tol=1e-5, max_iter=10000)\n",
        "    svm.fit(X_train, y_train)\n",
        "\n",
        "    return svm.score(X_test, y_test)\n"
      ],
      "metadata": {
        "id": "iMhiD_ZeQ44s"
      },
      "id": "iMhiD_ZeQ44s",
      "execution_count": 73,
      "outputs": []
    },
    {
      "cell_type": "code",
      "source": [
        "eval_meanpool_classifier(pf_encoder, pf_decoder, pf_train, pf_test)"
      ],
      "metadata": {
        "colab": {
          "base_uri": "https://localhost:8080/"
        },
        "id": "6wEh0WvqULIt",
        "outputId": "717211f8-2ba1-4aec-f85f-72fecf6dd57e"
      },
      "id": "6wEh0WvqULIt",
      "execution_count": 74,
      "outputs": [
        {
          "output_type": "execute_result",
          "data": {
            "text/plain": [
              "0.48868778280542985"
            ]
          },
          "metadata": {},
          "execution_count": 74
        }
      ]
    },
    {
      "cell_type": "code",
      "source": [
        "def eval_maxpool_classifier(encoder, decoder, train_graphs, test_graphs):\n",
        "    X_train = np.zeros((len(train_graphs), 768))\n",
        "    y_train = np.zeros((len(train_graphs)))\n",
        "\n",
        "    X_test = np.zeros((len(test_graphs), 768))\n",
        "    y_test = np.zeros((len(test_graphs)))\n",
        "\n",
        "    with torch.no_grad():\n",
        "        for i in range(len(train_graphs)):\n",
        "            h = encoder(train_graphs[i].x, train_graphs[i].edge_index)\n",
        "            r = decoder(h, train_graphs[i].edge_index)\n",
        "            X_train[i] = r.max(dim=0)[0]\n",
        "            y_train[i] = train_graphs[i].y.item()\n",
        "\n",
        "        for i in range(len(test_graphs)):\n",
        "            h = encoder(test_graphs[i].x, test_graphs[i].edge_index)\n",
        "            r = decoder(h, test_graphs[i].edge_index)\n",
        "            X_test[i] = r.max(dim=0)[0]\n",
        "            y_test[i] = test_graphs[i].y.item()\n",
        "\n",
        "\n",
        "    svm = SVC(gamma='auto', random_state=0, tol=1e-5, max_iter=10000)\n",
        "    svm.fit(X_train, y_train)\n",
        "\n",
        "    return svm.score(X_test, y_test)\n"
      ],
      "metadata": {
        "id": "b2Gt4dY2VZ1R"
      },
      "id": "b2Gt4dY2VZ1R",
      "execution_count": 75,
      "outputs": []
    },
    {
      "cell_type": "code",
      "source": [
        "eval_maxpool_classifier(pf_encoder, pf_decoder, pf_train, pf_test)"
      ],
      "metadata": {
        "colab": {
          "base_uri": "https://localhost:8080/"
        },
        "id": "P8ds9WuIVfh1",
        "outputId": "0d0e4215-9309-4988-e30b-cd873c77efd4"
      },
      "id": "P8ds9WuIVfh1",
      "execution_count": 76,
      "outputs": [
        {
          "output_type": "execute_result",
          "data": {
            "text/plain": [
              "0.4841628959276018"
            ]
          },
          "metadata": {},
          "execution_count": 76
        }
      ]
    },
    {
      "cell_type": "code",
      "source": [
        "def eval_encode_only_classifier(encoder, decoder, train_graphs, test_graphs):\n",
        "    X_train = np.zeros((len(train_graphs), 512))\n",
        "    y_train = np.zeros((len(train_graphs)))\n",
        "\n",
        "    X_test = np.zeros((len(test_graphs), 512))\n",
        "    y_test = np.zeros((len(test_graphs)))\n",
        "\n",
        "    with torch.no_grad():\n",
        "        for i in range(len(train_graphs)):\n",
        "            h = encoder(train_graphs[i].x, train_graphs[i].edge_index)\n",
        "            X_train[i] = h.mean(dim=0)\n",
        "            y_train[i] = train_graphs[i].y.item()\n",
        "\n",
        "        for i in range(len(test_graphs)):\n",
        "            h = encoder(test_graphs[i].x, test_graphs[i].edge_index)\n",
        "            X_test[i] = h.mean(dim=0)\n",
        "            y_test[i] = test_graphs[i].y.item()\n",
        "\n",
        "\n",
        "    svm = SVC(gamma='auto', random_state=0, tol=1e-5, max_iter=10000)\n",
        "    svm.fit(X_train, y_train)\n",
        "\n",
        "    return svm.score(X_test, y_test)\n"
      ],
      "metadata": {
        "id": "r4unI6QtWk64"
      },
      "id": "r4unI6QtWk64",
      "execution_count": 77,
      "outputs": []
    },
    {
      "cell_type": "code",
      "source": [
        "eval_encode_only_classifier(pf_encoder, pf_decoder, pf_train, pf_test)"
      ],
      "metadata": {
        "colab": {
          "base_uri": "https://localhost:8080/"
        },
        "id": "GTiBqSqOW1Wi",
        "outputId": "eab7b409-5779-4af7-deb2-b478e6630a1f"
      },
      "id": "GTiBqSqOW1Wi",
      "execution_count": 78,
      "outputs": [
        {
          "output_type": "execute_result",
          "data": {
            "text/plain": [
              "0.48868778280542985"
            ]
          },
          "metadata": {},
          "execution_count": 78
        }
      ]
    },
    {
      "cell_type": "code",
      "source": [
        "class DecoderGCN(torch.nn.Module):\n",
        "    def __init__(self, in_channels, out_channels):\n",
        "        super(DecoderGCN, self).__init__()\n",
        "        torch.manual_seed(12345)\n",
        "\n",
        "        self.conv1 = GCNConv(in_channels, in_channels)\n",
        "        self.conv2 = GCNConv(in_channels, out_channels)\n",
        "\n",
        "    def forward(self, x, edge_index):\n",
        "        h1 = self.conv1(x, edge_index).relu()\n",
        "        h2 = self.conv2(h1, edge_index)\n",
        "        return h2"
      ],
      "metadata": {
        "id": "Jhdu9K5bW5dG"
      },
      "id": "Jhdu9K5bW5dG",
      "execution_count": 84,
      "outputs": []
    },
    {
      "cell_type": "code",
      "source": [
        "pf_encoder_gcn, pf_decoder_gcn, pf_train_losses_gcn = eval_GAMC(GIN(768, 512, 2), DecoderGCN(512, 768), pf_train, pf_val, pf_test, batch_size=128, epochs=80)"
      ],
      "metadata": {
        "colab": {
          "base_uri": "https://localhost:8080/",
          "height": 1000
        },
        "id": "ieXXm-7GYzJS",
        "outputId": "f96ee86d-3be3-4db0-c091-d64cc57680ab"
      },
      "id": "ieXXm-7GYzJS",
      "execution_count": 86,
      "outputs": [
        {
          "output_type": "stream",
          "name": "stdout",
          "text": [
            "Epoch: 00, Loss: 501.1674\n",
            "Epoch: 01, Loss: 485.0404\n",
            "Epoch: 02, Loss: 453.3150\n",
            "Epoch: 03, Loss: 444.3517\n",
            "Epoch: 04, Loss: 434.3442\n",
            "Epoch: 05, Loss: 432.1586\n",
            "Epoch: 06, Loss: 428.2133\n",
            "Epoch: 07, Loss: 424.9646\n",
            "Epoch: 08, Loss: 423.9404\n",
            "Epoch: 09, Loss: 419.5679\n",
            "Epoch: 10, Loss: 419.7722\n",
            "Epoch: 11, Loss: 421.3487\n",
            "Epoch: 12, Loss: 417.1019\n",
            "Epoch: 13, Loss: 417.7363\n",
            "Epoch: 14, Loss: 414.1492\n",
            "Epoch: 15, Loss: 411.9685\n",
            "Epoch: 16, Loss: 414.4212\n",
            "Epoch: 17, Loss: 414.0094\n",
            "Epoch: 18, Loss: 414.0811\n",
            "Epoch: 19, Loss: 410.1122\n",
            "Epoch: 20, Loss: 407.3085\n",
            "Epoch: 21, Loss: 408.3168\n",
            "Epoch: 22, Loss: 406.8838\n",
            "Epoch: 23, Loss: 406.8333\n",
            "Epoch: 24, Loss: 405.1401\n",
            "Epoch: 25, Loss: 406.5718\n",
            "Epoch: 26, Loss: 405.0381\n",
            "Epoch: 27, Loss: 405.1280\n",
            "Epoch: 28, Loss: 403.9056\n",
            "Epoch: 29, Loss: 404.7062\n",
            "Epoch: 30, Loss: 402.8070\n",
            "Epoch: 31, Loss: 400.3531\n",
            "Epoch: 32, Loss: 401.1466\n",
            "Epoch: 33, Loss: 400.8775\n",
            "Epoch: 34, Loss: 400.3594\n",
            "Epoch: 35, Loss: 400.0957\n",
            "Epoch: 36, Loss: 398.5080\n",
            "Epoch: 37, Loss: 397.3973\n",
            "Epoch: 38, Loss: 398.6072\n",
            "Epoch: 39, Loss: 398.9576\n",
            "Epoch: 40, Loss: 397.0495\n",
            "Epoch: 41, Loss: 397.9539\n",
            "Epoch: 42, Loss: 398.0730\n",
            "Epoch: 43, Loss: 395.8754\n",
            "Epoch: 44, Loss: 396.5861\n",
            "Epoch: 45, Loss: 396.2960\n",
            "Epoch: 46, Loss: 395.5071\n",
            "Epoch: 47, Loss: 393.8069\n",
            "Epoch: 48, Loss: 396.2551\n",
            "Epoch: 49, Loss: 395.5434\n",
            "Epoch: 50, Loss: 394.5294\n",
            "Epoch: 51, Loss: 396.7970\n",
            "Epoch: 52, Loss: 397.9766\n",
            "Epoch: 53, Loss: 395.2055\n",
            "Epoch: 54, Loss: 396.1956\n",
            "Epoch: 55, Loss: 394.2906\n",
            "Epoch: 56, Loss: 392.0920\n",
            "Epoch: 57, Loss: 394.2502\n",
            "Epoch: 58, Loss: 394.6168\n",
            "Epoch: 59, Loss: 392.8649\n",
            "Epoch: 60, Loss: 393.7902\n",
            "Epoch: 61, Loss: 393.4485\n",
            "Epoch: 62, Loss: 393.8141\n",
            "Epoch: 63, Loss: 393.2401\n",
            "Epoch: 64, Loss: 391.8401\n",
            "Epoch: 65, Loss: 391.0191\n",
            "Epoch: 66, Loss: 391.2636\n",
            "Epoch: 67, Loss: 391.1173\n",
            "Epoch: 68, Loss: 391.8868\n",
            "Epoch: 69, Loss: 390.7690\n",
            "Epoch: 70, Loss: 392.0774\n",
            "Epoch: 71, Loss: 390.3622\n",
            "Epoch: 72, Loss: 390.0069\n",
            "Epoch: 73, Loss: 389.8503\n",
            "Epoch: 74, Loss: 393.7860\n",
            "Epoch: 75, Loss: 390.9375\n",
            "Epoch: 76, Loss: 391.0503\n",
            "Epoch: 77, Loss: 391.0137\n",
            "Epoch: 78, Loss: 389.0812\n",
            "Epoch: 79, Loss: 389.6169\n"
          ]
        },
        {
          "output_type": "display_data",
          "data": {
            "text/plain": [
              "<Figure size 640x480 with 1 Axes>"
            ],
            "image/png": "[encoded data removed]"
          },
          "metadata": {}
        }
      ]
    },
    {
      "cell_type": "code",
      "source": [
        "eval_meanpool_classifier(pf_encoder_gcn, pf_decoder_gcn, pf_train, pf_test)"
      ],
      "metadata": {
        "colab": {
          "base_uri": "https://localhost:8080/"
        },
        "id": "hQIpDmfgcu5h",
        "outputId": "c340d9c7-e7bc-4a65-caa8-9d4c10021b76"
      },
      "id": "hQIpDmfgcu5h",
      "execution_count": 88,
      "outputs": [
        {
          "output_type": "execute_result",
          "data": {
            "text/plain": [
              "0.48868778280542985"
            ]
          },
          "metadata": {},
          "execution_count": 88
        }
      ]
    },
    {
      "cell_type": "code",
      "source": [
        "eval_maxpool_classifier(pf_encoder_gcn, pf_decoder_gcn, pf_train, pf_test)"
      ],
      "metadata": {
        "colab": {
          "base_uri": "https://localhost:8080/"
        },
        "id": "HoXC1ljqdFCn",
        "outputId": "c4077641-fb10-4ed5-c148-bd468cac46b4"
      },
      "id": "HoXC1ljqdFCn",
      "execution_count": 89,
      "outputs": [
        {
          "output_type": "execute_result",
          "data": {
            "text/plain": [
              "0.48868778280542985"
            ]
          },
          "metadata": {},
          "execution_count": 89
        }
      ]
    },
    {
      "cell_type": "code",
      "source": [
        "eval_encode_only_classifier(pf_encoder_gcn, pf_decoder_gcn, pf_train, pf_test)"
      ],
      "metadata": {
        "colab": {
          "base_uri": "https://localhost:8080/"
        },
        "id": "QNT9zUs-dGXG",
        "outputId": "cf22f8a0-93f9-491e-e069-865dd363675c"
      },
      "id": "QNT9zUs-dGXG",
      "execution_count": 90,
      "outputs": [
        {
          "output_type": "execute_result",
          "data": {
            "text/plain": [
              "0.48868778280542985"
            ]
          },
          "metadata": {},
          "execution_count": 90
        }
      ]
    },
    {
      "cell_type": "code",
      "source": [
        "class GIN_ReLU(torch.nn.Module):\n",
        "    def __init__(self, in_channels, hidden_channels, num_layers):\n",
        "        super().__init__()\n",
        "\n",
        "        self.convs = torch.nn.ModuleList()\n",
        "        self.batch_norms = torch.nn.ModuleList()\n",
        "\n",
        "        for i in range(num_layers):\n",
        "            mlp = Sequential(\n",
        "                Linear(in_channels, 2 * hidden_channels),\n",
        "                BatchNorm(2 * hidden_channels),\n",
        "                ReLU(),\n",
        "                Linear(2 * hidden_channels, hidden_channels),\n",
        "            )\n",
        "            conv = GINConv(mlp, train_eps=True)\n",
        "\n",
        "            self.convs.append(conv)\n",
        "            self.batch_norms.append(BatchNorm(hidden_channels))\n",
        "\n",
        "            in_channels = hidden_channels\n",
        "\n",
        "    def forward(self, x, edge_index):\n",
        "        for conv, batch_norm in zip(self.convs, self.batch_norms):\n",
        "            x = F.relu(batch_norm(conv(x, edge_index)))\n",
        "        return x"
      ],
      "metadata": {
        "id": "FqXLc62XdXJf"
      },
      "id": "FqXLc62XdXJf",
      "execution_count": 91,
      "outputs": []
    },
    {
      "cell_type": "code",
      "source": [
        "pf_encoder_og, pf_decoder_og, pf_train_losses_og = eval_GAMC(GIN_ReLU(768, 512, 2), DecoderGCN(512, 768), pf_train, pf_val, pf_test, batch_size=128, epochs=80)"
      ],
      "metadata": {
        "colab": {
          "base_uri": "https://localhost:8080/",
          "height": 1000
        },
        "id": "yPbezQT3dl0c",
        "outputId": "0de9e794-4b77-4d3e-c65b-6186a871a246"
      },
      "id": "yPbezQT3dl0c",
      "execution_count": 92,
      "outputs": [
        {
          "output_type": "stream",
          "name": "stdout",
          "text": [
            "Epoch: 00, Loss: 492.6678\n",
            "Epoch: 01, Loss: 475.5983\n",
            "Epoch: 02, Loss: 456.8559\n",
            "Epoch: 03, Loss: 451.3951\n",
            "Epoch: 04, Loss: 442.8875\n",
            "Epoch: 05, Loss: 439.7136\n",
            "Epoch: 06, Loss: 435.3586\n",
            "Epoch: 07, Loss: 431.9589\n",
            "Epoch: 08, Loss: 432.2603\n",
            "Epoch: 09, Loss: 429.5836\n",
            "Epoch: 10, Loss: 428.6216\n",
            "Epoch: 11, Loss: 431.3447\n",
            "Epoch: 12, Loss: 427.8659\n",
            "Epoch: 13, Loss: 428.2721\n",
            "Epoch: 14, Loss: 426.4948\n",
            "Epoch: 15, Loss: 424.0569\n",
            "Epoch: 16, Loss: 426.3570\n",
            "Epoch: 17, Loss: 427.1084\n",
            "Epoch: 18, Loss: 427.8476\n",
            "Epoch: 19, Loss: 424.5129\n",
            "Epoch: 20, Loss: 421.6665\n",
            "Epoch: 21, Loss: 423.6052\n",
            "Epoch: 22, Loss: 422.3835\n",
            "Epoch: 23, Loss: 423.3270\n",
            "Epoch: 24, Loss: 422.1501\n",
            "Epoch: 25, Loss: 424.6141\n",
            "Epoch: 26, Loss: 422.6707\n",
            "Epoch: 27, Loss: 423.4479\n",
            "Epoch: 28, Loss: 422.5385\n",
            "Epoch: 29, Loss: 424.1054\n",
            "Epoch: 30, Loss: 421.8351\n",
            "Epoch: 31, Loss: 419.9038\n",
            "Epoch: 32, Loss: 421.6698\n",
            "Epoch: 33, Loss: 420.9079\n",
            "Epoch: 34, Loss: 421.0750\n",
            "Epoch: 35, Loss: 420.6665\n",
            "Epoch: 36, Loss: 419.6300\n",
            "Epoch: 37, Loss: 419.0158\n",
            "Epoch: 38, Loss: 420.2597\n",
            "Epoch: 39, Loss: 420.6226\n",
            "Epoch: 40, Loss: 418.8087\n",
            "Epoch: 41, Loss: 420.7489\n",
            "Epoch: 42, Loss: 421.1076\n",
            "Epoch: 43, Loss: 418.9613\n",
            "Epoch: 44, Loss: 419.0294\n",
            "Epoch: 45, Loss: 419.1823\n",
            "Epoch: 46, Loss: 418.9798\n",
            "Epoch: 47, Loss: 415.4394\n",
            "Epoch: 48, Loss: 418.8443\n",
            "Epoch: 49, Loss: 418.4054\n",
            "Epoch: 50, Loss: 417.9557\n",
            "Epoch: 51, Loss: 419.5646\n",
            "Epoch: 52, Loss: 421.5546\n",
            "Epoch: 53, Loss: 418.4565\n",
            "Epoch: 54, Loss: 419.5281\n",
            "Epoch: 55, Loss: 417.7227\n",
            "Epoch: 56, Loss: 416.1735\n",
            "Epoch: 57, Loss: 418.3224\n",
            "Epoch: 58, Loss: 419.3189\n",
            "Epoch: 59, Loss: 417.2115\n",
            "Epoch: 60, Loss: 418.7041\n",
            "Epoch: 61, Loss: 418.3072\n",
            "Epoch: 62, Loss: 419.0056\n",
            "Epoch: 63, Loss: 417.8500\n",
            "Epoch: 64, Loss: 417.4659\n",
            "Epoch: 65, Loss: 416.4643\n",
            "Epoch: 66, Loss: 416.4265\n",
            "Epoch: 67, Loss: 416.8182\n",
            "Epoch: 68, Loss: 417.4026\n",
            "Epoch: 69, Loss: 415.5054\n",
            "Epoch: 70, Loss: 416.9926\n",
            "Epoch: 71, Loss: 416.5936\n",
            "Epoch: 72, Loss: 415.9081\n",
            "Epoch: 73, Loss: 415.6317\n",
            "Epoch: 74, Loss: 419.5520\n",
            "Epoch: 75, Loss: 417.3189\n",
            "Epoch: 76, Loss: 417.3434\n",
            "Epoch: 77, Loss: 416.9383\n",
            "Epoch: 78, Loss: 415.1049\n",
            "Epoch: 79, Loss: 415.9981\n"
          ]
        },
        {
          "output_type": "display_data",
          "data": {
            "text/plain": [
              "<Figure size 640x480 with 1 Axes>"
            ],
            "image/png": "[encoded data removed]"
          },
          "metadata": {}
        }
      ]
    },
    {
      "cell_type": "code",
      "source": [
        "eval_meanpool_classifier(pf_encoder_og, pf_decoder_og, pf_train, pf_test)"
      ],
      "metadata": {
        "colab": {
          "base_uri": "https://localhost:8080/"
        },
        "id": "Kt9LZTyVdyvG",
        "outputId": "b6205972-ee3e-484d-d8da-20a910c5c8e6"
      },
      "id": "Kt9LZTyVdyvG",
      "execution_count": 93,
      "outputs": [
        {
          "output_type": "execute_result",
          "data": {
            "text/plain": [
              "0.48868778280542985"
            ]
          },
          "metadata": {},
          "execution_count": 93
        }
      ]
    },
    {
      "cell_type": "code",
      "source": [
        "eval_maxpool_classifier(pf_encoder_og, pf_decoder_og, pf_train, pf_test)"
      ],
      "metadata": {
        "colab": {
          "base_uri": "https://localhost:8080/"
        },
        "id": "vjqClXAMdzg6",
        "outputId": "0b8801d0-0357-4d27-a003-eea5bd362b41"
      },
      "id": "vjqClXAMdzg6",
      "execution_count": 94,
      "outputs": [
        {
          "output_type": "execute_result",
          "data": {
            "text/plain": [
              "0.48868778280542985"
            ]
          },
          "metadata": {},
          "execution_count": 94
        }
      ]
    },
    {
      "cell_type": "code",
      "source": [
        "eval_encode_only_classifier(pf_encoder_og, pf_decoder_og, pf_train, pf_test)"
      ],
      "metadata": {
        "colab": {
          "base_uri": "https://localhost:8080/"
        },
        "id": "qjcJdd_td1F_",
        "outputId": "5fb8d5e0-bbb5-4917-9384-40d79f15d65a"
      },
      "id": "qjcJdd_td1F_",
      "execution_count": 95,
      "outputs": [
        {
          "output_type": "execute_result",
          "data": {
            "text/plain": [
              "0.48868778280542985"
            ]
          },
          "metadata": {},
          "execution_count": 95
        }
      ]
    }
  ],
  "metadata": {
    "kernelspec": {
      "display_name": "Python 3 (ipykernel)",
      "language": "python",
      "name": "python3"
    },
    "language_info": {
      "codemirror_mode": {
        "name": "ipython",
        "version": 3
      },
      "file_extension": ".py",
      "mimetype": "text/x-python",
      "name": "python",
      "nbconvert_exporter": "python",
      "pygments_lexer": "ipython3",
      "version": "3.9.18"
    },
    "colab": {
      "provenance": []
    }
  },
  "nbformat": 4,
  "nbformat_minor": 5
}