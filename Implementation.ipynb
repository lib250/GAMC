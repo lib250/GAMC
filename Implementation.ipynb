{
  "cells": [
    {
      "cell_type": "markdown",
      "source": [
        "# GAMC Implementation\n",
        "\n",
        "In this notebook, we try to implement GAMC (Yin et al. 2023) in PyTorch Geometric."
      ],
      "metadata": {
        "id": "n0H_m9qjw-OI"
      },
      "id": "n0H_m9qjw-OI"
    },
    {
      "cell_type": "markdown",
      "source": [
        "## Installation and Imports"
      ],
      "metadata": {
        "id": "tKNjza_6xVpN"
      },
      "id": "tKNjza_6xVpN"
    },
    {
      "cell_type": "code",
      "source": [
        "!pip install torch_geometric"
      ],
      "metadata": {
        "colab": {
          "base_uri": "https://localhost:8080/"
        },
        "id": "la2Pf4ELJfXz",
        "outputId": "533cde15-440f-4c40-a250-5464e2a1c9c5"
      },
      "id": "la2Pf4ELJfXz",
      "execution_count": 1,
      "outputs": [
        {
          "output_type": "stream",
          "name": "stdout",
          "text": [
            "Requirement already satisfied: torch_geometric in /usr/local/lib/python3.10/dist-packages (2.5.3)\n",
            "Requirement already satisfied: tqdm in /usr/local/lib/python3.10/dist-packages (from torch_geometric) (4.66.2)\n",
            "Requirement already satisfied: numpy in /usr/local/lib/python3.10/dist-packages (from torch_geometric) (1.25.2)\n",
            "Requirement already satisfied: scipy in /usr/local/lib/python3.10/dist-packages (from torch_geometric) (1.11.4)\n",
            "Requirement already satisfied: fsspec in /usr/local/lib/python3.10/dist-packages (from torch_geometric) (2023.6.0)\n",
            "Requirement already satisfied: jinja2 in /usr/local/lib/python3.10/dist-packages (from torch_geometric) (3.1.3)\n",
            "Requirement already satisfied: aiohttp in /usr/local/lib/python3.10/dist-packages (from torch_geometric) (3.9.5)\n",
            "Requirement already satisfied: requests in /usr/local/lib/python3.10/dist-packages (from torch_geometric) (2.31.0)\n",
            "Requirement already satisfied: pyparsing in /usr/local/lib/python3.10/dist-packages (from torch_geometric) (3.1.2)\n",
            "Requirement already satisfied: scikit-learn in /usr/local/lib/python3.10/dist-packages (from torch_geometric) (1.2.2)\n",
            "Requirement already satisfied: psutil>=5.8.0 in /usr/local/lib/python3.10/dist-packages (from torch_geometric) (5.9.5)\n",
            "Requirement already satisfied: aiosignal>=1.1.2 in /usr/local/lib/python3.10/dist-packages (from aiohttp->torch_geometric) (1.3.1)\n",
            "Requirement already satisfied: attrs>=17.3.0 in /usr/local/lib/python3.10/dist-packages (from aiohttp->torch_geometric) (23.2.0)\n",
            "Requirement already satisfied: frozenlist>=1.1.1 in /usr/local/lib/python3.10/dist-packages (from aiohttp->torch_geometric) (1.4.1)\n",
            "Requirement already satisfied: multidict<7.0,>=4.5 in /usr/local/lib/python3.10/dist-packages (from aiohttp->torch_geometric) (6.0.5)\n",
            "Requirement already satisfied: yarl<2.0,>=1.0 in /usr/local/lib/python3.10/dist-packages (from aiohttp->torch_geometric) (1.9.4)\n",
            "Requirement already satisfied: async-timeout<5.0,>=4.0 in /usr/local/lib/python3.10/dist-packages (from aiohttp->torch_geometric) (4.0.3)\n",
            "Requirement already satisfied: MarkupSafe>=2.0 in /usr/local/lib/python3.10/dist-packages (from jinja2->torch_geometric) (2.1.5)\n",
            "Requirement already satisfied: charset-normalizer<4,>=2 in /usr/local/lib/python3.10/dist-packages (from requests->torch_geometric) (3.3.2)\n",
            "Requirement already satisfied: idna<4,>=2.5 in /usr/local/lib/python3.10/dist-packages (from requests->torch_geometric) (3.7)\n",
            "Requirement already satisfied: urllib3<3,>=1.21.1 in /usr/local/lib/python3.10/dist-packages (from requests->torch_geometric) (2.0.7)\n",
            "Requirement already satisfied: certifi>=2017.4.17 in /usr/local/lib/python3.10/dist-packages (from requests->torch_geometric) (2024.2.2)\n",
            "Requirement already satisfied: joblib>=1.1.1 in /usr/local/lib/python3.10/dist-packages (from scikit-learn->torch_geometric) (1.4.0)\n",
            "Requirement already satisfied: threadpoolctl>=2.0.0 in /usr/local/lib/python3.10/dist-packages (from scikit-learn->torch_geometric) (3.4.0)\n"
          ]
        }
      ]
    },
    {
      "cell_type": "code",
      "execution_count": 2,
      "id": "5201ffc1-0bda-483e-a1fc-5a246cb4babe",
      "metadata": {
        "id": "5201ffc1-0bda-483e-a1fc-5a246cb4babe"
      },
      "outputs": [],
      "source": [
        "import torch\n",
        "import torch.nn.functional as F\n",
        "from torch.nn import Linear, ReLU, Sequential\n",
        "from torch.nn import BatchNorm1d as BatchNorm\n",
        "\n",
        "from torch_geometric.datasets import UPFD\n",
        "from torch_geometric.loader import DataLoader\n",
        "from torch_geometric.nn import GATConv, GCNConv, SAGEConv, GINConv, global_add_pool, global_max_pool, global_mean_pool\n",
        "from torch_geometric.transforms import ToUndirected\n",
        "from torch_geometric.nn.models.autoencoder import InnerProductDecoder\n",
        "\n",
        "import numpy as np\n",
        "\n",
        "%matplotlib inline\n",
        "import matplotlib.pyplot as plt"
      ]
    },
    {
      "cell_type": "markdown",
      "source": [
        "This cell is for mounting in Google Colab. If running locally, skip this cell and move on to the next to define the `path` variable."
      ],
      "metadata": {
        "id": "233jC-h9xs7d"
      },
      "id": "233jC-h9xs7d"
    },
    {
      "cell_type": "code",
      "execution_count": 3,
      "id": "a4539385-87f6-4759-9fdd-0abd09620af8",
      "metadata": {
        "colab": {
          "base_uri": "https://localhost:8080/"
        },
        "id": "a4539385-87f6-4759-9fdd-0abd09620af8",
        "outputId": "2ea5e386-f297-4974-923a-eee3e22ee0f6"
      },
      "outputs": [
        {
          "output_type": "stream",
          "name": "stdout",
          "text": [
            "Drive already mounted at /content/drive; to attempt to forcibly remount, call drive.mount(\"/content/drive\", force_remount=True).\n"
          ]
        }
      ],
      "source": [
        "from google.colab import drive\n",
        "drive.mount('/content/drive')\n",
        "path = 'drive/MyDrive/CS365/data/UPFD'"
      ]
    },
    {
      "cell_type": "code",
      "source": [
        "# Uncomment the following line and run this cell if the previous cell was not run\n",
        "# path = '.'"
      ],
      "metadata": {
        "id": "smbJB-Qxx0g_"
      },
      "id": "smbJB-Qxx0g_",
      "execution_count": 4,
      "outputs": []
    },
    {
      "cell_type": "markdown",
      "source": [
        "## Loading Dataset\n",
        "\n",
        "Here we just load the PolitiFact dataset."
      ],
      "metadata": {
        "id": "4S1uSfB4yAqV"
      },
      "id": "4S1uSfB4yAqV"
    },
    {
      "cell_type": "code",
      "execution_count": 13,
      "id": "0c4939d5-f918-4c8d-af2c-bd64dcc6feca",
      "metadata": {
        "id": "0c4939d5-f918-4c8d-af2c-bd64dcc6feca"
      },
      "outputs": [],
      "source": [
        "pf_train = UPFD(path, 'politifact', 'bert', 'train', ToUndirected())\n",
        "pf_val = UPFD(path, 'politifact', 'bert', 'val', ToUndirected())\n",
        "pf_test = UPFD(path, 'politifact', 'bert', 'test', ToUndirected())\n"
      ]
    },
    {
      "cell_type": "code",
      "execution_count": 14,
      "id": "bbb64a5f-3f96-42fa-9403-cae57bb5c542",
      "metadata": {
        "colab": {
          "base_uri": "https://localhost:8080/"
        },
        "id": "bbb64a5f-3f96-42fa-9403-cae57bb5c542",
        "outputId": "270bc69b-9e4a-4394-f839-890f063dd113"
      },
      "outputs": [
        {
          "output_type": "stream",
          "name": "stdout",
          "text": [
            "==== POLITIFACT ====\n",
            "Train: UPFD(62, name=politifact, feature=bert)\n",
            "Val: UPFD(31, name=politifact, feature=bert)\n",
            "Test: UPFD(221, name=politifact, feature=bert)\n"
          ]
        }
      ],
      "source": [
        "print(\"==== POLITIFACT ====\")\n",
        "print(\"Train:\", pf_train)\n",
        "print(\"Val:\", pf_val)\n",
        "print(\"Test:\", pf_test)\n"
      ]
    },
    {
      "cell_type": "markdown",
      "source": [
        "## Implementation"
      ],
      "metadata": {
        "id": "xX3_IpghyQsi"
      },
      "id": "xX3_IpghyQsi"
    },
    {
      "cell_type": "markdown",
      "source": [
        "### Graph Isomorphism Network (GIN) Without Final ReLU"
      ],
      "metadata": {
        "id": "uDd1xEwfyTP1"
      },
      "id": "uDd1xEwfyTP1"
    },
    {
      "cell_type": "code",
      "source": [
        "class GIN(torch.nn.Module):\n",
        "    def __init__(self, in_channels, hidden_channels, num_layers):\n",
        "        super().__init__()\n",
        "\n",
        "        self.convs = torch.nn.ModuleList()\n",
        "        self.batch_norms = torch.nn.ModuleList()\n",
        "\n",
        "        for i in range(num_layers):\n",
        "            mlp = Sequential(\n",
        "                Linear(in_channels, 2 * hidden_channels),\n",
        "                BatchNorm(2 * hidden_channels),\n",
        "                ReLU(),\n",
        "                Linear(2 * hidden_channels, hidden_channels),\n",
        "            )\n",
        "            conv = GINConv(mlp, train_eps=True)\n",
        "\n",
        "            self.convs.append(conv)\n",
        "            self.batch_norms.append(BatchNorm(hidden_channels))\n",
        "\n",
        "            in_channels = hidden_channels\n",
        "\n",
        "    def forward(self, x, edge_index):\n",
        "        layer = 0\n",
        "        for conv, batch_norm in zip(self.convs, self.batch_norms):\n",
        "            x = F.relu(batch_norm(conv(x, edge_index))) if layer == 0 else batch_norm(conv(x, edge_index))\n",
        "            layer += 1\n",
        "        return x"
      ],
      "metadata": {
        "id": "9p8DphFhVoCe"
      },
      "id": "9p8DphFhVoCe",
      "execution_count": 15,
      "outputs": []
    },
    {
      "cell_type": "markdown",
      "source": [
        "### Helper Functions\n",
        "\n",
        "Here we implement the GAMC loss function (joint_loss). The loss function is made up of reconstruction loss (`rec_loss`) and contrastive loss (`con_loss`). The reconstruction loss is calculated by taking the difference between the reconstructed and original node embedding matrices, and calculating the mean of each row. The final `rec_loss` component is the average of the mean distances of both maskings.\n",
        "<br/>\n",
        "\n",
        "We mask 50% of the nodes and drop 20% of the edges as specified in GAMC."
      ],
      "metadata": {
        "id": "Qew_2c1Py9hN"
      },
      "id": "Qew_2c1Py9hN"
    },
    {
      "cell_type": "code",
      "source": [
        "def joint_loss(x1, x2, r1, r2):\n",
        "    diff1 = x1 - r2\n",
        "    diff2 = x2 - r2\n",
        "    rec1 = (diff1 ** 2).sum(dim=1).mean()\n",
        "    rec2 = (diff2 ** 2).sum(dim=1).mean()\n",
        "    rec_loss = (rec1 + rec2) / 2\n",
        "\n",
        "    con_loss = F.cosine_similarity(r1, r2, dim=1).mean()\n",
        "    return rec_loss - 0.1 * con_loss\n",
        "\n",
        "def mask_nodes(x, mask_token, rate=0.5):\n",
        "    mask = torch.rand(x.size(0)) < rate\n",
        "    masked = x.clone()\n",
        "    masked[mask] = mask_token\n",
        "    return masked, mask\n",
        "\n",
        "def remask_nodes(h, mask_idx, remask_token):\n",
        "    remasked = h.clone()\n",
        "    remasked[mask_idx] = remask_token\n",
        "    return remasked\n",
        "\n",
        "def edge_drop(edge_idx, rate=0.2):\n",
        "    idxs = torch.zeros(edge_idx.shape[1])\n",
        "    idxs[int(rate*edge_idx.shape[1]):] = 1\n",
        "    idxs = idxs[torch.randperm(idxs.shape[0])]\n",
        "    dropped = edge_idx.clone()\n",
        "    return dropped[:,idxs.bool()]"
      ],
      "metadata": {
        "id": "fI-iQuFCd0-6"
      },
      "id": "fI-iQuFCd0-6",
      "execution_count": 16,
      "outputs": []
    },
    {
      "cell_type": "code",
      "execution_count": 17,
      "id": "bf5d90b5-ed61-4d51-b753-ea4493057074",
      "metadata": {
        "id": "bf5d90b5-ed61-4d51-b753-ea4493057074"
      },
      "outputs": [],
      "source": [
        "def eval_GAMC(model, decoder, train_dataset, val_dataset, test_dataset, epochs=80, batch_size=1):\n",
        "    train_loader = DataLoader(train_dataset, batch_size=batch_size, shuffle=True)\n",
        "    val_loader = DataLoader(val_dataset, batch_size=batch_size, shuffle=False)\n",
        "    test_loader = DataLoader(test_dataset, batch_size=batch_size, shuffle=False)\n",
        "\n",
        "    device = torch.device('cuda' if torch.cuda.is_available() else 'cpu')\n",
        "    model=model.to(device)\n",
        "    decoder = decoder.to(device)\n",
        "\n",
        "    optimizer = torch.optim.Adam(model.parameters(), lr=0.001)\n",
        "    criterion = joint_loss\n",
        "\n",
        "    # Masking tokens were unspecified in the original\n",
        "    # paper so we use random noise vectors.\n",
        "    mask_token = torch.rand(768)\n",
        "    remask_token = torch.rand(512)\n",
        "\n",
        "    def train():\n",
        "        model.train()\n",
        "\n",
        "        total_loss = 0\n",
        "        for data in train_loader:\n",
        "\n",
        "            # random node masking\n",
        "            x1, mask1 = mask_nodes(data.x, mask_token)\n",
        "            x2, mask2 = mask_nodes(data.x, mask_token)\n",
        "\n",
        "            # random edge dropping\n",
        "            e1 = edge_drop(data.edge_index)\n",
        "            e2 = edge_drop(data.edge_index)\n",
        "\n",
        "            x1, x2 = x1.to(device), x2.to(device)\n",
        "            optimizer.zero_grad()\n",
        "\n",
        "            # encoding\n",
        "            h1 = model(x1, e1)\n",
        "            h2 = model(x2, e2)\n",
        "\n",
        "            # remask step\n",
        "            h1 = remask_nodes(h1, mask1, remask_token)\n",
        "            h2 = remask_nodes(h2, mask2, remask_token)\n",
        "\n",
        "            # decoding\n",
        "            r1 = decoder(h1, e1)\n",
        "            r2 = decoder(h2, e2)\n",
        "\n",
        "            loss = criterion(x1, x2, r1, r2)\n",
        "            loss.backward()\n",
        "            optimizer.step()\n",
        "\n",
        "            total_loss += float(loss) * data.num_graphs\n",
        "\n",
        "        return total_loss / len(train_loader.dataset)\n",
        "\n",
        "    train_losses = np.zeros((epochs))\n",
        "\n",
        "    for epoch in range(epochs):\n",
        "        loss = train()\n",
        "        train_losses[epoch] = loss\n",
        "        print(f'Epoch: {epoch:02d}, Loss: {loss:.4f}')\n",
        "\n",
        "    fig, ax = plt.subplots()\n",
        "    ax.plot(train_losses,'r-',label='train')\n",
        "    ax.set_xlim(0,epochs)\n",
        "    ax.set_xlabel('Epoch'); ax.set_ylabel('Error')\n",
        "    ax.legend()\n",
        "    plt.show()\n",
        "\n",
        "    return model, decoder, train_losses"
      ]
    },
    {
      "cell_type": "markdown",
      "source": [
        "## Evaluations"
      ],
      "metadata": {
        "id": "q1WlIdYdz8rB"
      },
      "id": "q1WlIdYdz8rB"
    },
    {
      "cell_type": "markdown",
      "source": [
        "We evaluate each encoder-decoder pair with different aggregation methods to generate the inputs to the SVM: averaging, maxpooling, and averaging without decoding."
      ],
      "metadata": {
        "id": "wXm9W5Mn6fLo"
      },
      "id": "wXm9W5Mn6fLo"
    },
    {
      "cell_type": "markdown",
      "source": [
        "### Non-ReLU GIN Encoder to Non-ReLU GIN Decoder"
      ],
      "metadata": {
        "id": "ZZkSgFHsz__C"
      },
      "id": "ZZkSgFHsz__C"
    },
    {
      "cell_type": "code",
      "execution_count": 18,
      "id": "82fba362-4269-4dd1-ba13-9439f1216f9b",
      "metadata": {
        "colab": {
          "base_uri": "https://localhost:8080/",
          "height": 1000
        },
        "id": "82fba362-4269-4dd1-ba13-9439f1216f9b",
        "outputId": "4ee895a2-4227-4ab1-ba71-566db84a69af"
      },
      "outputs": [
        {
          "output_type": "stream",
          "name": "stdout",
          "text": [
            "Epoch: 00, Loss: 1179.5374\n",
            "Epoch: 01, Loss: 1178.0310\n",
            "Epoch: 02, Loss: 1177.1782\n",
            "Epoch: 03, Loss: 1178.1477\n",
            "Epoch: 04, Loss: 1175.2198\n",
            "Epoch: 05, Loss: 1176.4965\n",
            "Epoch: 06, Loss: 1175.1510\n",
            "Epoch: 07, Loss: 1174.2570\n",
            "Epoch: 08, Loss: 1174.1554\n",
            "Epoch: 09, Loss: 1174.5192\n",
            "Epoch: 10, Loss: 1172.3754\n",
            "Epoch: 11, Loss: 1173.2596\n",
            "Epoch: 12, Loss: 1175.5719\n",
            "Epoch: 13, Loss: 1172.4720\n",
            "Epoch: 14, Loss: 1172.3116\n",
            "Epoch: 15, Loss: 1173.4807\n",
            "Epoch: 16, Loss: 1173.3253\n",
            "Epoch: 17, Loss: 1171.1071\n",
            "Epoch: 18, Loss: 1171.1405\n",
            "Epoch: 19, Loss: 1172.8033\n",
            "Epoch: 20, Loss: 1169.8928\n",
            "Epoch: 21, Loss: 1174.1346\n",
            "Epoch: 22, Loss: 1173.0038\n",
            "Epoch: 23, Loss: 1173.4451\n",
            "Epoch: 24, Loss: 1169.9880\n",
            "Epoch: 25, Loss: 1171.7094\n",
            "Epoch: 26, Loss: 1171.2471\n",
            "Epoch: 27, Loss: 1173.1653\n",
            "Epoch: 28, Loss: 1174.2781\n",
            "Epoch: 29, Loss: 1171.9698\n",
            "Epoch: 30, Loss: 1170.5519\n",
            "Epoch: 31, Loss: 1170.6692\n",
            "Epoch: 32, Loss: 1173.7150\n",
            "Epoch: 33, Loss: 1171.3171\n",
            "Epoch: 34, Loss: 1169.7484\n",
            "Epoch: 35, Loss: 1171.3815\n",
            "Epoch: 36, Loss: 1170.7125\n",
            "Epoch: 37, Loss: 1169.8256\n",
            "Epoch: 38, Loss: 1170.5139\n",
            "Epoch: 39, Loss: 1170.6278\n",
            "Epoch: 40, Loss: 1170.2646\n",
            "Epoch: 41, Loss: 1171.8208\n",
            "Epoch: 42, Loss: 1170.1653\n",
            "Epoch: 43, Loss: 1169.4543\n",
            "Epoch: 44, Loss: 1170.2052\n",
            "Epoch: 45, Loss: 1171.3188\n",
            "Epoch: 46, Loss: 1170.5861\n",
            "Epoch: 47, Loss: 1171.5255\n",
            "Epoch: 48, Loss: 1171.2471\n",
            "Epoch: 49, Loss: 1168.3127\n",
            "Epoch: 50, Loss: 1167.9734\n",
            "Epoch: 51, Loss: 1169.8794\n",
            "Epoch: 52, Loss: 1169.2101\n",
            "Epoch: 53, Loss: 1168.3309\n",
            "Epoch: 54, Loss: 1169.7823\n",
            "Epoch: 55, Loss: 1167.2144\n",
            "Epoch: 56, Loss: 1168.2993\n",
            "Epoch: 57, Loss: 1168.3054\n",
            "Epoch: 58, Loss: 1167.1133\n",
            "Epoch: 59, Loss: 1166.3179\n",
            "Epoch: 60, Loss: 1167.5791\n",
            "Epoch: 61, Loss: 1166.6443\n",
            "Epoch: 62, Loss: 1166.4854\n",
            "Epoch: 63, Loss: 1168.1714\n",
            "Epoch: 64, Loss: 1167.9087\n",
            "Epoch: 65, Loss: 1172.0448\n",
            "Epoch: 66, Loss: 1166.6736\n",
            "Epoch: 67, Loss: 1167.0059\n",
            "Epoch: 68, Loss: 1167.7015\n",
            "Epoch: 69, Loss: 1165.2524\n",
            "Epoch: 70, Loss: 1168.2318\n",
            "Epoch: 71, Loss: 1168.6665\n",
            "Epoch: 72, Loss: 1169.1323\n",
            "Epoch: 73, Loss: 1165.3961\n",
            "Epoch: 74, Loss: 1167.1028\n",
            "Epoch: 75, Loss: 1165.8196\n",
            "Epoch: 76, Loss: 1165.8118\n",
            "Epoch: 77, Loss: 1168.2632\n",
            "Epoch: 78, Loss: 1167.4797\n",
            "Epoch: 79, Loss: 1167.1664\n"
          ]
        },
        {
          "output_type": "display_data",
          "data": {
            "text/plain": [
              "<Figure size 640x480 with 1 Axes>"
            ],
            "image/png": "[encoded data removed]"
          },
          "metadata": {}
        }
      ],
      "source": [
        "pf_encoder, pf_decoder, pf_train_losses = eval_GAMC(GIN(768, 512, 2), GIN(512, 768, 2), pf_train, pf_val, pf_test, batch_size=128, epochs=80)"
      ]
    },
    {
      "cell_type": "code",
      "source": [
        "from sklearn.svm import LinearSVC, SVC\n",
        "\n",
        "@torch.no_grad()\n",
        "def eval_meanpool_classifier(encoder, decoder, train_graphs, test_graphs):\n",
        "    X_train = np.zeros((len(train_graphs), 768))\n",
        "    y_train = np.zeros((len(train_graphs)))\n",
        "\n",
        "    X_test = np.zeros((len(test_graphs), 768))\n",
        "    y_test = np.zeros((len(test_graphs)))\n",
        "\n",
        "    with torch.no_grad():\n",
        "        for i in range(len(train_graphs)):\n",
        "            h = encoder(train_graphs[i].x, train_graphs[i].edge_index)\n",
        "            r = decoder(h, train_graphs[i].edge_index)\n",
        "            X_train[i] = r.mean(dim=0)\n",
        "            y_train[i] = train_graphs[i].y.item()\n",
        "\n",
        "        for i in range(len(test_graphs)):\n",
        "            h = encoder(test_graphs[i].x, test_graphs[i].edge_index)\n",
        "            r = decoder(h, test_graphs[i].edge_index)\n",
        "            X_test[i] = r.mean(dim=0)\n",
        "            y_test[i] = test_graphs[i].y.item()\n",
        "\n",
        "\n",
        "    svm = SVC(gamma='auto', random_state=0, tol=1e-5, max_iter=10000)\n",
        "    svm.fit(X_train, y_train)\n",
        "\n",
        "    return svm.score(X_test, y_test)\n"
      ],
      "metadata": {
        "id": "iMhiD_ZeQ44s"
      },
      "id": "iMhiD_ZeQ44s",
      "execution_count": 19,
      "outputs": []
    },
    {
      "cell_type": "code",
      "source": [
        "eval_meanpool_classifier(pf_encoder, pf_decoder, pf_train, pf_test)"
      ],
      "metadata": {
        "colab": {
          "base_uri": "https://localhost:8080/"
        },
        "id": "6wEh0WvqULIt",
        "outputId": "4278b06b-ecd2-412d-eef0-31a03d919fbe"
      },
      "id": "6wEh0WvqULIt",
      "execution_count": 20,
      "outputs": [
        {
          "output_type": "execute_result",
          "data": {
            "text/plain": [
              "0.48868778280542985"
            ]
          },
          "metadata": {},
          "execution_count": 20
        }
      ]
    },
    {
      "cell_type": "code",
      "source": [
        "@torch.no_grad()\n",
        "def eval_maxpool_classifier(encoder, decoder, train_graphs, test_graphs):\n",
        "    X_train = np.zeros((len(train_graphs), 768))\n",
        "    y_train = np.zeros((len(train_graphs)))\n",
        "\n",
        "    X_test = np.zeros((len(test_graphs), 768))\n",
        "    y_test = np.zeros((len(test_graphs)))\n",
        "\n",
        "    with torch.no_grad():\n",
        "        for i in range(len(train_graphs)):\n",
        "            h = encoder(train_graphs[i].x, train_graphs[i].edge_index)\n",
        "            r = decoder(h, train_graphs[i].edge_index)\n",
        "            X_train[i] = r.max(dim=0)[0]\n",
        "            y_train[i] = train_graphs[i].y.item()\n",
        "\n",
        "        for i in range(len(test_graphs)):\n",
        "            h = encoder(test_graphs[i].x, test_graphs[i].edge_index)\n",
        "            r = decoder(h, test_graphs[i].edge_index)\n",
        "            X_test[i] = r.max(dim=0)[0]\n",
        "            y_test[i] = test_graphs[i].y.item()\n",
        "\n",
        "\n",
        "    svm = SVC(gamma='auto', random_state=0, tol=1e-5, max_iter=10000)\n",
        "    svm.fit(X_train, y_train)\n",
        "\n",
        "    return svm.score(X_test, y_test)\n"
      ],
      "metadata": {
        "id": "b2Gt4dY2VZ1R"
      },
      "id": "b2Gt4dY2VZ1R",
      "execution_count": 21,
      "outputs": []
    },
    {
      "cell_type": "code",
      "source": [
        "eval_maxpool_classifier(pf_encoder, pf_decoder, pf_train, pf_test)"
      ],
      "metadata": {
        "colab": {
          "base_uri": "https://localhost:8080/"
        },
        "id": "P8ds9WuIVfh1",
        "outputId": "0985fd2b-e284-417f-cbaa-c21360807ada"
      },
      "id": "P8ds9WuIVfh1",
      "execution_count": 22,
      "outputs": [
        {
          "output_type": "execute_result",
          "data": {
            "text/plain": [
              "0.49321266968325794"
            ]
          },
          "metadata": {},
          "execution_count": 22
        }
      ]
    },
    {
      "cell_type": "code",
      "source": [
        "@torch.no_grad()\n",
        "def eval_encode_only_classifier(encoder, decoder, train_graphs, test_graphs):\n",
        "    X_train = np.zeros((len(train_graphs), 512))\n",
        "    y_train = np.zeros((len(train_graphs)))\n",
        "\n",
        "    X_test = np.zeros((len(test_graphs), 512))\n",
        "    y_test = np.zeros((len(test_graphs)))\n",
        "\n",
        "    with torch.no_grad():\n",
        "        for i in range(len(train_graphs)):\n",
        "            h = encoder(train_graphs[i].x, train_graphs[i].edge_index)\n",
        "            X_train[i] = h.mean(dim=0)\n",
        "            y_train[i] = train_graphs[i].y.item()\n",
        "\n",
        "        for i in range(len(test_graphs)):\n",
        "            h = encoder(test_graphs[i].x, test_graphs[i].edge_index)\n",
        "            X_test[i] = h.mean(dim=0)\n",
        "            y_test[i] = test_graphs[i].y.item()\n",
        "\n",
        "\n",
        "    svm = SVC(gamma='auto', random_state=0, tol=1e-5, max_iter=10000)\n",
        "    svm.fit(X_train, y_train)\n",
        "\n",
        "    return svm.score(X_test, y_test)\n"
      ],
      "metadata": {
        "id": "r4unI6QtWk64"
      },
      "id": "r4unI6QtWk64",
      "execution_count": 23,
      "outputs": []
    },
    {
      "cell_type": "code",
      "source": [
        "eval_encode_only_classifier(pf_encoder, pf_decoder, pf_train, pf_test)"
      ],
      "metadata": {
        "colab": {
          "base_uri": "https://localhost:8080/"
        },
        "id": "GTiBqSqOW1Wi",
        "outputId": "f755f9e5-f1bd-43ad-b8b4-d9a3b0cc7c8c"
      },
      "id": "GTiBqSqOW1Wi",
      "execution_count": 24,
      "outputs": [
        {
          "output_type": "execute_result",
          "data": {
            "text/plain": [
              "0.48868778280542985"
            ]
          },
          "metadata": {},
          "execution_count": 24
        }
      ]
    },
    {
      "cell_type": "markdown",
      "source": [
        "### Non-ReLU GIN Encoder to GCN Decoder"
      ],
      "metadata": {
        "id": "L3-CMoOf0KjL"
      },
      "id": "L3-CMoOf0KjL"
    },
    {
      "cell_type": "code",
      "source": [
        "class DecoderGCN(torch.nn.Module):\n",
        "    def __init__(self, in_channels, out_channels):\n",
        "        super(DecoderGCN, self).__init__()\n",
        "        torch.manual_seed(12345)\n",
        "\n",
        "        self.conv1 = GCNConv(in_channels, in_channels)\n",
        "        self.conv2 = GCNConv(in_channels, out_channels)\n",
        "\n",
        "    def forward(self, x, edge_index):\n",
        "        h1 = self.conv1(x, edge_index).relu()\n",
        "        h2 = self.conv2(h1, edge_index)\n",
        "        return h2"
      ],
      "metadata": {
        "id": "Jhdu9K5bW5dG"
      },
      "id": "Jhdu9K5bW5dG",
      "execution_count": 25,
      "outputs": []
    },
    {
      "cell_type": "code",
      "source": [
        "pf_encoder_gcn, pf_decoder_gcn, pf_train_losses_gcn = eval_GAMC(GIN(768, 512, 2), DecoderGCN(512, 768), pf_train, pf_val, pf_test, batch_size=128, epochs=80)"
      ],
      "metadata": {
        "colab": {
          "base_uri": "https://localhost:8080/",
          "height": 1000
        },
        "id": "ieXXm-7GYzJS",
        "outputId": "3ae69794-76d4-4db5-d469-904a16614816"
      },
      "id": "ieXXm-7GYzJS",
      "execution_count": 26,
      "outputs": [
        {
          "output_type": "stream",
          "name": "stdout",
          "text": [
            "Epoch: 00, Loss: 503.2075\n",
            "Epoch: 01, Loss: 483.5126\n",
            "Epoch: 02, Loss: 452.1316\n",
            "Epoch: 03, Loss: 443.5667\n",
            "Epoch: 04, Loss: 434.7780\n",
            "Epoch: 05, Loss: 432.6263\n",
            "Epoch: 06, Loss: 428.7590\n",
            "Epoch: 07, Loss: 425.4844\n",
            "Epoch: 08, Loss: 424.1353\n",
            "Epoch: 09, Loss: 420.0869\n",
            "Epoch: 10, Loss: 419.4393\n",
            "Epoch: 11, Loss: 421.0372\n",
            "Epoch: 12, Loss: 417.1337\n",
            "Epoch: 13, Loss: 417.4709\n",
            "Epoch: 14, Loss: 414.0855\n",
            "Epoch: 15, Loss: 411.4726\n",
            "Epoch: 16, Loss: 413.4453\n",
            "Epoch: 17, Loss: 412.7687\n",
            "Epoch: 18, Loss: 412.8427\n",
            "Epoch: 19, Loss: 408.7769\n",
            "Epoch: 20, Loss: 405.7718\n",
            "Epoch: 21, Loss: 406.8835\n",
            "Epoch: 22, Loss: 405.4496\n",
            "Epoch: 23, Loss: 405.4642\n",
            "Epoch: 24, Loss: 403.6413\n",
            "Epoch: 25, Loss: 404.9449\n",
            "Epoch: 26, Loss: 403.0206\n",
            "Epoch: 27, Loss: 403.7596\n",
            "Epoch: 28, Loss: 402.0986\n",
            "Epoch: 29, Loss: 402.8485\n",
            "Epoch: 30, Loss: 400.9514\n",
            "Epoch: 31, Loss: 398.4551\n",
            "Epoch: 32, Loss: 400.7698\n",
            "Epoch: 33, Loss: 399.6178\n",
            "Epoch: 34, Loss: 398.9012\n",
            "Epoch: 35, Loss: 398.4403\n",
            "Epoch: 36, Loss: 396.8593\n",
            "Epoch: 37, Loss: 396.0431\n",
            "Epoch: 38, Loss: 396.9072\n",
            "Epoch: 39, Loss: 397.4998\n",
            "Epoch: 40, Loss: 395.3827\n",
            "Epoch: 41, Loss: 396.4844\n",
            "Epoch: 42, Loss: 396.6718\n",
            "Epoch: 43, Loss: 394.3036\n",
            "Epoch: 44, Loss: 395.2789\n",
            "Epoch: 45, Loss: 395.1750\n",
            "Epoch: 46, Loss: 393.6302\n",
            "Epoch: 47, Loss: 390.2851\n",
            "Epoch: 48, Loss: 393.4485\n",
            "Epoch: 49, Loss: 393.4654\n",
            "Epoch: 50, Loss: 391.6308\n",
            "Epoch: 51, Loss: 393.8219\n",
            "Epoch: 52, Loss: 395.5890\n",
            "Epoch: 53, Loss: 393.2149\n",
            "Epoch: 54, Loss: 394.1725\n",
            "Epoch: 55, Loss: 391.7178\n",
            "Epoch: 56, Loss: 389.6982\n",
            "Epoch: 57, Loss: 391.6881\n",
            "Epoch: 58, Loss: 392.7354\n",
            "Epoch: 59, Loss: 390.4433\n",
            "Epoch: 60, Loss: 391.7289\n",
            "Epoch: 61, Loss: 391.5339\n",
            "Epoch: 62, Loss: 391.5615\n",
            "Epoch: 63, Loss: 391.5610\n",
            "Epoch: 64, Loss: 390.3567\n",
            "Epoch: 65, Loss: 389.5723\n",
            "Epoch: 66, Loss: 389.3800\n",
            "Epoch: 67, Loss: 389.6945\n",
            "Epoch: 68, Loss: 389.9155\n",
            "Epoch: 69, Loss: 389.0767\n",
            "Epoch: 70, Loss: 390.2521\n",
            "Epoch: 71, Loss: 388.6744\n",
            "Epoch: 72, Loss: 388.2991\n",
            "Epoch: 73, Loss: 388.0786\n",
            "Epoch: 74, Loss: 392.2646\n",
            "Epoch: 75, Loss: 389.3333\n",
            "Epoch: 76, Loss: 389.5518\n",
            "Epoch: 77, Loss: 389.5298\n",
            "Epoch: 78, Loss: 387.4948\n",
            "Epoch: 79, Loss: 389.1603\n"
          ]
        },
        {
          "output_type": "display_data",
          "data": {
            "text/plain": [
              "<Figure size 640x480 with 1 Axes>"
            ],
            "image/png": "[encoded data removed]"
          },
          "metadata": {}
        }
      ]
    },
    {
      "cell_type": "code",
      "source": [
        "eval_meanpool_classifier(pf_encoder_gcn, pf_decoder_gcn, pf_train, pf_test)"
      ],
      "metadata": {
        "colab": {
          "base_uri": "https://localhost:8080/"
        },
        "id": "hQIpDmfgcu5h",
        "outputId": "996f5161-1044-447b-a8c9-2e7589f08132"
      },
      "id": "hQIpDmfgcu5h",
      "execution_count": 27,
      "outputs": [
        {
          "output_type": "execute_result",
          "data": {
            "text/plain": [
              "0.48868778280542985"
            ]
          },
          "metadata": {},
          "execution_count": 27
        }
      ]
    },
    {
      "cell_type": "code",
      "source": [
        "eval_maxpool_classifier(pf_encoder_gcn, pf_decoder_gcn, pf_train, pf_test)"
      ],
      "metadata": {
        "colab": {
          "base_uri": "https://localhost:8080/"
        },
        "id": "HoXC1ljqdFCn",
        "outputId": "ade328a4-b6a3-47a8-fe40-76f97454020a"
      },
      "id": "HoXC1ljqdFCn",
      "execution_count": 28,
      "outputs": [
        {
          "output_type": "execute_result",
          "data": {
            "text/plain": [
              "0.48868778280542985"
            ]
          },
          "metadata": {},
          "execution_count": 28
        }
      ]
    },
    {
      "cell_type": "code",
      "source": [
        "eval_encode_only_classifier(pf_encoder_gcn, pf_decoder_gcn, pf_train, pf_test)"
      ],
      "metadata": {
        "colab": {
          "base_uri": "https://localhost:8080/"
        },
        "id": "QNT9zUs-dGXG",
        "outputId": "626920f2-ce02-4de0-81dd-6728696c3b61"
      },
      "id": "QNT9zUs-dGXG",
      "execution_count": 29,
      "outputs": [
        {
          "output_type": "execute_result",
          "data": {
            "text/plain": [
              "0.48868778280542985"
            ]
          },
          "metadata": {},
          "execution_count": 29
        }
      ]
    },
    {
      "cell_type": "markdown",
      "source": [
        "### ReLU GIN Encoder to GCN Decoder"
      ],
      "metadata": {
        "id": "C27H1kUa0ROC"
      },
      "id": "C27H1kUa0ROC"
    },
    {
      "cell_type": "code",
      "source": [
        "class GIN_ReLU(torch.nn.Module):\n",
        "    def __init__(self, in_channels, hidden_channels, num_layers):\n",
        "        super().__init__()\n",
        "\n",
        "        self.convs = torch.nn.ModuleList()\n",
        "        self.batch_norms = torch.nn.ModuleList()\n",
        "\n",
        "        for i in range(num_layers):\n",
        "            mlp = Sequential(\n",
        "                Linear(in_channels, 2 * hidden_channels),\n",
        "                BatchNorm(2 * hidden_channels),\n",
        "                ReLU(),\n",
        "                Linear(2 * hidden_channels, hidden_channels),\n",
        "            )\n",
        "            conv = GINConv(mlp, train_eps=True)\n",
        "\n",
        "            self.convs.append(conv)\n",
        "            self.batch_norms.append(BatchNorm(hidden_channels))\n",
        "\n",
        "            in_channels = hidden_channels\n",
        "\n",
        "    def forward(self, x, edge_index):\n",
        "        for conv, batch_norm in zip(self.convs, self.batch_norms):\n",
        "            x = F.relu(batch_norm(conv(x, edge_index)))\n",
        "        return x"
      ],
      "metadata": {
        "id": "FqXLc62XdXJf"
      },
      "id": "FqXLc62XdXJf",
      "execution_count": 30,
      "outputs": []
    },
    {
      "cell_type": "code",
      "source": [
        "pf_encoder_og, pf_decoder_og, pf_train_losses_og = eval_GAMC(GIN_ReLU(768, 512, 2), DecoderGCN(512, 768), pf_train, pf_val, pf_test, batch_size=128, epochs=80)"
      ],
      "metadata": {
        "colab": {
          "base_uri": "https://localhost:8080/",
          "height": 1000
        },
        "id": "yPbezQT3dl0c",
        "outputId": "7844e62d-5950-46c6-bc2f-e2437a8c0829"
      },
      "id": "yPbezQT3dl0c",
      "execution_count": 31,
      "outputs": [
        {
          "output_type": "stream",
          "name": "stdout",
          "text": [
            "Epoch: 00, Loss: 492.6678\n",
            "Epoch: 01, Loss: 475.5983\n",
            "Epoch: 02, Loss: 456.8559\n",
            "Epoch: 03, Loss: 451.3951\n",
            "Epoch: 04, Loss: 442.8875\n",
            "Epoch: 05, Loss: 439.7136\n",
            "Epoch: 06, Loss: 435.3586\n",
            "Epoch: 07, Loss: 431.9589\n",
            "Epoch: 08, Loss: 432.2603\n",
            "Epoch: 09, Loss: 429.5836\n",
            "Epoch: 10, Loss: 428.6216\n",
            "Epoch: 11, Loss: 431.3447\n",
            "Epoch: 12, Loss: 427.8659\n",
            "Epoch: 13, Loss: 428.2721\n",
            "Epoch: 14, Loss: 426.4948\n",
            "Epoch: 15, Loss: 424.0569\n",
            "Epoch: 16, Loss: 426.3570\n",
            "Epoch: 17, Loss: 427.1084\n",
            "Epoch: 18, Loss: 427.8476\n",
            "Epoch: 19, Loss: 424.5129\n",
            "Epoch: 20, Loss: 421.6665\n",
            "Epoch: 21, Loss: 423.6052\n",
            "Epoch: 22, Loss: 422.3835\n",
            "Epoch: 23, Loss: 423.3270\n",
            "Epoch: 24, Loss: 422.1501\n",
            "Epoch: 25, Loss: 424.6141\n",
            "Epoch: 26, Loss: 422.6707\n",
            "Epoch: 27, Loss: 423.4479\n",
            "Epoch: 28, Loss: 422.5385\n",
            "Epoch: 29, Loss: 424.1054\n",
            "Epoch: 30, Loss: 421.8351\n",
            "Epoch: 31, Loss: 419.9038\n",
            "Epoch: 32, Loss: 421.6698\n",
            "Epoch: 33, Loss: 420.9079\n",
            "Epoch: 34, Loss: 421.0750\n",
            "Epoch: 35, Loss: 420.6665\n",
            "Epoch: 36, Loss: 419.6300\n",
            "Epoch: 37, Loss: 419.0158\n",
            "Epoch: 38, Loss: 420.2597\n",
            "Epoch: 39, Loss: 420.6226\n",
            "Epoch: 40, Loss: 418.8087\n",
            "Epoch: 41, Loss: 420.7489\n",
            "Epoch: 42, Loss: 421.1076\n",
            "Epoch: 43, Loss: 418.9613\n",
            "Epoch: 44, Loss: 419.0294\n",
            "Epoch: 45, Loss: 419.1823\n",
            "Epoch: 46, Loss: 418.9798\n",
            "Epoch: 47, Loss: 415.4394\n",
            "Epoch: 48, Loss: 418.8443\n",
            "Epoch: 49, Loss: 418.4054\n",
            "Epoch: 50, Loss: 417.9557\n",
            "Epoch: 51, Loss: 419.5646\n",
            "Epoch: 52, Loss: 421.5546\n",
            "Epoch: 53, Loss: 418.4565\n",
            "Epoch: 54, Loss: 419.5281\n",
            "Epoch: 55, Loss: 417.7227\n",
            "Epoch: 56, Loss: 416.1735\n",
            "Epoch: 57, Loss: 418.3224\n",
            "Epoch: 58, Loss: 419.3189\n",
            "Epoch: 59, Loss: 417.2115\n",
            "Epoch: 60, Loss: 418.7041\n",
            "Epoch: 61, Loss: 418.3072\n",
            "Epoch: 62, Loss: 419.0056\n",
            "Epoch: 63, Loss: 417.8500\n",
            "Epoch: 64, Loss: 417.4659\n",
            "Epoch: 65, Loss: 416.4643\n",
            "Epoch: 66, Loss: 416.4265\n",
            "Epoch: 67, Loss: 416.8182\n",
            "Epoch: 68, Loss: 417.4026\n",
            "Epoch: 69, Loss: 415.5054\n",
            "Epoch: 70, Loss: 416.9926\n",
            "Epoch: 71, Loss: 416.5936\n",
            "Epoch: 72, Loss: 415.9081\n",
            "Epoch: 73, Loss: 415.6317\n",
            "Epoch: 74, Loss: 419.5520\n",
            "Epoch: 75, Loss: 417.3189\n",
            "Epoch: 76, Loss: 417.3434\n",
            "Epoch: 77, Loss: 416.9383\n",
            "Epoch: 78, Loss: 415.1049\n",
            "Epoch: 79, Loss: 415.9981\n"
          ]
        },
        {
          "output_type": "display_data",
          "data": {
            "text/plain": [
              "<Figure size 640x480 with 1 Axes>"
            ],
            "image/png": "[encoded data removed]"
          },
          "metadata": {}
        }
      ]
    },
    {
      "cell_type": "code",
      "source": [
        "eval_meanpool_classifier(pf_encoder_og, pf_decoder_og, pf_train, pf_test)"
      ],
      "metadata": {
        "colab": {
          "base_uri": "https://localhost:8080/"
        },
        "id": "Kt9LZTyVdyvG",
        "outputId": "d32f2a2e-729b-4f7d-d028-460a7b04fc57"
      },
      "id": "Kt9LZTyVdyvG",
      "execution_count": 32,
      "outputs": [
        {
          "output_type": "execute_result",
          "data": {
            "text/plain": [
              "0.48868778280542985"
            ]
          },
          "metadata": {},
          "execution_count": 32
        }
      ]
    },
    {
      "cell_type": "code",
      "source": [
        "eval_maxpool_classifier(pf_encoder_og, pf_decoder_og, pf_train, pf_test)"
      ],
      "metadata": {
        "colab": {
          "base_uri": "https://localhost:8080/"
        },
        "id": "vjqClXAMdzg6",
        "outputId": "281ac368-53ea-4fc7-c1cf-9809b25c4664"
      },
      "id": "vjqClXAMdzg6",
      "execution_count": 33,
      "outputs": [
        {
          "output_type": "execute_result",
          "data": {
            "text/plain": [
              "0.48868778280542985"
            ]
          },
          "metadata": {},
          "execution_count": 33
        }
      ]
    },
    {
      "cell_type": "code",
      "source": [
        "eval_encode_only_classifier(pf_encoder_og, pf_decoder_og, pf_train, pf_test)"
      ],
      "metadata": {
        "colab": {
          "base_uri": "https://localhost:8080/"
        },
        "id": "qjcJdd_td1F_",
        "outputId": "ecb72f0c-9b1e-4726-b6a0-d157f63eb246"
      },
      "id": "qjcJdd_td1F_",
      "execution_count": 34,
      "outputs": [
        {
          "output_type": "execute_result",
          "data": {
            "text/plain": [
              "0.48868778280542985"
            ]
          },
          "metadata": {},
          "execution_count": 34
        }
      ]
    },
    {
      "cell_type": "code",
      "source": [],
      "metadata": {
        "id": "Rcbwdl3D7-PL"
      },
      "id": "Rcbwdl3D7-PL",
      "execution_count": null,
      "outputs": []
    }
  ],
  "metadata": {
    "kernelspec": {
      "display_name": "Python 3 (ipykernel)",
      "language": "python",
      "name": "python3"
    },
    "language_info": {
      "codemirror_mode": {
        "name": "ipython",
        "version": 3
      },
      "file_extension": ".py",
      "mimetype": "text/x-python",
      "name": "python",
      "nbconvert_exporter": "python",
      "pygments_lexer": "ipython3",
      "version": "3.9.18"
    },
    "colab": {
      "provenance": []
    }
  },
  "nbformat": 4,
  "nbformat_minor": 5
}